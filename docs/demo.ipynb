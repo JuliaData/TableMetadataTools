{
 "cells": [
  {
   "cell_type": "markdown",
   "id": "2686d600",
   "metadata": {},
   "source": [
    "# TableMetadataTools.jl tutorial\n",
    "\n",
    "## Bogumił Kamiński"
   ]
  },
  {
   "cell_type": "markdown",
   "id": "1536658c",
   "metadata": {},
   "source": [
    "In this tutorial TableMetadataTools.jl is already installed.\n",
    "\n",
    "If you want to install it on your own just do:\n",
    "\n",
    "```\n",
    "] add https://github.com/JuliaData/TableMetadataTools.jl\n",
    "```"
   ]
  },
  {
   "cell_type": "markdown",
   "id": "5fe1e146",
   "metadata": {},
   "source": [
    "This tutorial assumes you know what metadata can be used for. If not I recommend you start with reading the [Metadata](https://dataframes.juliadata.org/stable/lib/metadata/) section of the DataFrames.jl manual."
   ]
  },
  {
   "cell_type": "markdown",
   "id": "ac8112dd",
   "metadata": {},
   "source": [
    "### Setup steps"
   ]
  },
  {
   "cell_type": "markdown",
   "id": "8698bec7",
   "metadata": {},
   "source": [
    "Load required packages:"
   ]
  },
  {
   "cell_type": "code",
   "execution_count": 1,
   "id": "8b2f4ac6",
   "metadata": {},
   "outputs": [],
   "source": [
    "using DataFrames"
   ]
  },
  {
   "cell_type": "code",
   "execution_count": 2,
   "id": "005fb100",
   "metadata": {},
   "outputs": [],
   "source": [
    "using Plots"
   ]
  },
  {
   "cell_type": "code",
   "execution_count": 3,
   "id": "91c533b9",
   "metadata": {},
   "outputs": [],
   "source": [
    "using TableMetadataTools"
   ]
  },
  {
   "cell_type": "markdown",
   "id": "4c937c93",
   "metadata": {},
   "source": [
    "Check the versions of packages used\n",
    "\n",
    "(IJulia.jl is added to Project.toml so that you can easily run this notebook when starting Julia in /docs directory)"
   ]
  },
  {
   "cell_type": "code",
   "execution_count": 4,
   "id": "b2abf5d9",
   "metadata": {},
   "outputs": [
    {
     "name": "stdout",
     "output_type": "stream",
     "text": [
      "\u001b[32m\u001b[1mStatus\u001b[22m\u001b[39m `C:\\WORK\\dev\\TableMetadataTools\\docs\\Project.toml`\n",
      " \u001b[90m [a93c6f00] \u001b[39mDataFrames v1.4.3\n",
      " \u001b[90m [7073ff75] \u001b[39mIJulia v1.23.3\n",
      " \u001b[90m [91a5bcdd] \u001b[39mPlots v1.36.1\n",
      " \u001b[90m [9ce81f87] \u001b[39mTableMetadataTools v0.1.0 `https://github.com/JuliaData/TableMetadataTools.jl#main`\n"
     ]
    }
   ],
   "source": [
    "] status"
   ]
  },
  {
   "cell_type": "markdown",
   "id": "57669247",
   "metadata": {},
   "source": [
    "Create a data frame we will use.\n",
    "\n",
    "Data and metadata is taken from [The World Bank website](https://data.worldbank.org/indicator/NY.GDP.PCAP.CD?locations=PL)"
   ]
  },
  {
   "cell_type": "code",
   "execution_count": 5,
   "id": "6a08cb71",
   "metadata": {},
   "outputs": [
    {
     "data": {
      "text/html": [
       "<div><div style = \"float: left;\"><span>4×2 DataFrame</span></div><div style = \"clear: both;\"></div></div><div class = \"data-frame\" style = \"overflow-x: scroll;\"><table class = \"data-frame\" style = \"margin-bottom: 6px;\"><thead><tr class = \"header\"><th class = \"rowNumber\" style = \"font-weight: bold; text-align: right;\">Row</th><th style = \"text-align: left;\">year</th><th style = \"text-align: left;\">gdppc</th></tr><tr class = \"subheader headerLastRow\"><th class = \"rowNumber\" style = \"font-weight: bold; text-align: right;\"></th><th title = \"Int64\" style = \"text-align: left;\">Int64</th><th title = \"Float64\" style = \"text-align: left;\">Float64</th></tr></thead><tbody><tr><td class = \"rowNumber\" style = \"font-weight: bold; text-align: right;\">1</td><td style = \"text-align: right;\">2018</td><td style = \"text-align: right;\">15468.5</td></tr><tr><td class = \"rowNumber\" style = \"font-weight: bold; text-align: right;\">2</td><td style = \"text-align: right;\">2019</td><td style = \"text-align: right;\">15732.2</td></tr><tr><td class = \"rowNumber\" style = \"font-weight: bold; text-align: right;\">3</td><td style = \"text-align: right;\">2020</td><td style = \"text-align: right;\">15742.5</td></tr><tr><td class = \"rowNumber\" style = \"font-weight: bold; text-align: right;\">4</td><td style = \"text-align: right;\">2021</td><td style = \"text-align: right;\">17840.9</td></tr></tbody></table></div>"
      ],
      "text/latex": [
       "\\begin{tabular}{r|cc}\n",
       "\t& year & gdppc\\\\\n",
       "\t\\hline\n",
       "\t& Int64 & Float64\\\\\n",
       "\t\\hline\n",
       "\t1 & 2018 & 15468.5 \\\\\n",
       "\t2 & 2019 & 15732.2 \\\\\n",
       "\t3 & 2020 & 15742.5 \\\\\n",
       "\t4 & 2021 & 17840.9 \\\\\n",
       "\\end{tabular}\n"
      ],
      "text/plain": [
       "\u001b[1m4×2 DataFrame\u001b[0m\n",
       "\u001b[1m Row \u001b[0m│\u001b[1m year  \u001b[0m\u001b[1m gdppc   \u001b[0m\n",
       "     │\u001b[90m Int64 \u001b[0m\u001b[90m Float64 \u001b[0m\n",
       "─────┼────────────────\n",
       "   1 │  2018  15468.5\n",
       "   2 │  2019  15732.2\n",
       "   3 │  2020  15742.5\n",
       "   4 │  2021  17840.9"
      ]
     },
     "execution_count": 5,
     "metadata": {},
     "output_type": "execute_result"
    }
   ],
   "source": [
    "df = DataFrame(year=2018:2021, \n",
    "               gdppc=[15468.48222, 15732.20313, 15742.45373, 17840.92105])"
   ]
  },
  {
   "cell_type": "markdown",
   "id": "50344cd4",
   "metadata": {},
   "source": [
    "Populate it with metadata:"
   ]
  },
  {
   "cell_type": "code",
   "execution_count": 6,
   "id": "93d3385e",
   "metadata": {},
   "outputs": [],
   "source": [
    "caption!(df, \"GDP per capita of Poland\");\n",
    "note!(df, \"World Bank national accounts data, and OECD National Accounts data files.\");\n",
    "metadata!(df, \"License\", \"CC BY-4.0\");\n",
    "metadata!(df, \"Periodicity\", \"Annual\");\n",
    "label!(df, :gdppc, \"GDP per capita (current USD)\");\n",
    "note!(df, :gdppc, \"GDP: gross domestic product\");\n",
    "note!(df, :gdppc, \"population taken in midyear\", append=true);"
   ]
  },
  {
   "cell_type": "markdown",
   "id": "c5c967ed",
   "metadata": {},
   "source": [
    "Note that we have used:\n",
    "* standard `metadata!` function from DataAPi.jl; this function by default creates metadata with `:default` style.\n",
    "* special convenience functions: `caption!`, `note!`, and `label!` defined in TableMetadataTools.jl; all of them create metadata with `:note` style. Additionally `note!` allows for appending metadata to existing `\"note\"` metadata (adding a new line, as we will soon see)."
   ]
  },
  {
   "cell_type": "markdown",
   "id": "67f0a910",
   "metadata": {},
   "source": [
    "### Inspecting metadata"
   ]
  },
  {
   "cell_type": "markdown",
   "id": "e76941f3",
   "metadata": {},
   "source": [
    "First we fetch caption of our table:"
   ]
  },
  {
   "cell_type": "code",
   "execution_count": 7,
   "id": "09c2e353",
   "metadata": {},
   "outputs": [
    {
     "data": {
      "text/plain": [
       "\"GDP per capita of Poland\""
      ]
     },
     "execution_count": 7,
     "metadata": {},
     "output_type": "execute_result"
    }
   ],
   "source": [
    "caption(df)"
   ]
  },
  {
   "cell_type": "markdown",
   "id": "6607cb12",
   "metadata": {},
   "source": [
    "Now check labels of columns:"
   ]
  },
  {
   "cell_type": "code",
   "execution_count": 8,
   "id": "d880a816",
   "metadata": {},
   "outputs": [
    {
     "data": {
      "text/plain": [
       "\"year\""
      ]
     },
     "execution_count": 8,
     "metadata": {},
     "output_type": "execute_result"
    }
   ],
   "source": [
    "label(df, :year)"
   ]
  },
  {
   "cell_type": "code",
   "execution_count": 9,
   "id": "50033bc5",
   "metadata": {},
   "outputs": [
    {
     "data": {
      "text/plain": [
       "\"GDP per capita (current USD)\""
      ]
     },
     "execution_count": 9,
     "metadata": {},
     "output_type": "execute_result"
    }
   ],
   "source": [
    "label(df, :gdppc)"
   ]
  },
  {
   "cell_type": "code",
   "execution_count": 10,
   "id": "9a1304a8",
   "metadata": {},
   "outputs": [
    {
     "data": {
      "text/plain": [
       "2-element Vector{String}:\n",
       " \"year\"\n",
       " \"GDP per capita (current USD)\""
      ]
     },
     "execution_count": 10,
     "metadata": {},
     "output_type": "execute_result"
    }
   ],
   "source": [
    "labels(df)"
   ]
  },
  {
   "cell_type": "markdown",
   "id": "acfe52a7",
   "metadata": {},
   "source": [
    "Note that if column label is missing then just column name is returned."
   ]
  },
  {
   "cell_type": "markdown",
   "id": "a3636b8f",
   "metadata": {},
   "source": [
    "Finally check notes for both whole table and columns:"
   ]
  },
  {
   "cell_type": "code",
   "execution_count": 11,
   "id": "ae0f0d90",
   "metadata": {},
   "outputs": [
    {
     "name": "stdout",
     "output_type": "stream",
     "text": [
      "World Bank national accounts data, and OECD National Accounts data files.\n"
     ]
    }
   ],
   "source": [
    "println(note(df))"
   ]
  },
  {
   "cell_type": "code",
   "execution_count": 12,
   "id": "d5c8cb62",
   "metadata": {},
   "outputs": [
    {
     "name": "stdout",
     "output_type": "stream",
     "text": [
      "\n"
     ]
    }
   ],
   "source": [
    "println(note(df, :year))"
   ]
  },
  {
   "cell_type": "code",
   "execution_count": 13,
   "id": "cf0c24aa",
   "metadata": {},
   "outputs": [
    {
     "name": "stdout",
     "output_type": "stream",
     "text": [
      "GDP: gross domestic product\n",
      "population taken in midyear\n"
     ]
    }
   ],
   "source": [
    "println(note(df, :gdppc))"
   ]
  },
  {
   "cell_type": "markdown",
   "id": "1072ead4",
   "metadata": {},
   "source": [
    "Note two things:\n",
    "* for `:year` column there were no notes so an empty string is returned\n",
    "* for `:gdppc` column there were appended notes and they are both kept; separated by a newline"
   ]
  },
  {
   "cell_type": "markdown",
   "id": "0c5965ee",
   "metadata": {},
   "source": [
    "Let us check what all metadata values are stored for our data frame:"
   ]
  },
  {
   "cell_type": "code",
   "execution_count": 14,
   "id": "6611e89c",
   "metadata": {},
   "outputs": [
    {
     "data": {
      "text/plain": [
       "Dict{String, Tuple{String, Symbol}} with 4 entries:\n",
       "  \"note\"        => (\"World Bank national accounts data, and OECD National Accou…\n",
       "  \"Periodicity\" => (\"Annual\", :default)\n",
       "  \"caption\"     => (\"GDP per capita of Poland\", :note)\n",
       "  \"License\"     => (\"CC BY-4.0\", :default)"
      ]
     },
     "execution_count": 14,
     "metadata": {},
     "output_type": "execute_result"
    }
   ],
   "source": [
    "metadata(df, style=true)"
   ]
  },
  {
   "cell_type": "code",
   "execution_count": 15,
   "id": "ce658e1b",
   "metadata": {},
   "outputs": [
    {
     "name": "stdout",
     "output_type": "stream",
     "text": [
      "Column gdppc\n"
     ]
    },
    {
     "data": {
      "text/plain": [
       "Dict{String, Tuple{String, Symbol}} with 2 entries:\n",
       "  \"label\" => (\"GDP per capita (current USD)\", :note)\n",
       "  \"note\"  => (\"GDP: gross domestic product\\npopulation taken in midyear\", :note)"
      ]
     },
     "metadata": {},
     "output_type": "display_data"
    },
    {
     "name": "stdout",
     "output_type": "stream",
     "text": [
      "\n"
     ]
    }
   ],
   "source": [
    "foreach(colmetadata(df, style=true)) do (k, v)\n",
    "    println(\"Column $k\")\n",
    "    display(v)\n",
    "    println()\n",
    "end"
   ]
  },
  {
   "cell_type": "markdown",
   "id": "1ea814a7",
   "metadata": {},
   "source": [
    "All metadata looks as expected and has correct style."
   ]
  },
  {
   "cell_type": "markdown",
   "id": "b1f01df5",
   "metadata": {},
   "source": [
    "It is convenient to print metadata using TOML format.\n",
    "\n",
    "Here with style information:"
   ]
  },
  {
   "cell_type": "code",
   "execution_count": 16,
   "id": "bb0b218c",
   "metadata": {},
   "outputs": [
    {
     "name": "stdout",
     "output_type": "stream",
     "text": [
      "style = true\n",
      "\n",
      "[colmetadata.gdppc]\n",
      "label = [\"GDP per capita (current USD)\", \"note\"]\n",
      "note = [\"GDP: gross domestic product\\npopulation taken in midyear\", \"note\"]\n",
      "\n",
      "[metadata]\n",
      "License = [\"CC BY-4.0\", \"default\"]\n",
      "Periodicity = [\"Annual\", \"default\"]\n",
      "caption = [\"GDP per capita of Poland\", \"note\"]\n",
      "note = [\"World Bank national accounts data, and OECD National Accounts data files.\", \"note\"]\n",
      "\n"
     ]
    }
   ],
   "source": [
    "println(meta2toml(df))"
   ]
  },
  {
   "cell_type": "markdown",
   "id": "d8aa8b2e",
   "metadata": {},
   "source": [
    "And here without it:"
   ]
  },
  {
   "cell_type": "code",
   "execution_count": 17,
   "id": "544e3b4a",
   "metadata": {},
   "outputs": [
    {
     "name": "stdout",
     "output_type": "stream",
     "text": [
      "style = false\n",
      "\n",
      "[colmetadata.gdppc]\n",
      "label = \"GDP per capita (current USD)\"\n",
      "note = \"GDP: gross domestic product\\npopulation taken in midyear\"\n",
      "\n",
      "[metadata]\n",
      "License = \"CC BY-4.0\"\n",
      "Periodicity = \"Annual\"\n",
      "caption = \"GDP per capita of Poland\"\n",
      "note = \"World Bank national accounts data, and OECD National Accounts data files.\"\n",
      "\n"
     ]
    }
   ],
   "source": [
    "println(meta2toml(df, style=false))"
   ]
  },
  {
   "cell_type": "markdown",
   "id": "35de56d6",
   "metadata": {},
   "source": [
    "### Updating metadata style and using TOML serialization"
   ]
  },
  {
   "cell_type": "markdown",
   "id": "1508bd2f",
   "metadata": {},
   "source": [
    "Let us check style of all `\"License\"` metadata to `:note` (`:note` style is default in `setmetadatastyle!`):"
   ]
  },
  {
   "cell_type": "code",
   "execution_count": 18,
   "id": "73b217a2",
   "metadata": {},
   "outputs": [],
   "source": [
    "setmetadatastyle!(==(\"License\"), df);"
   ]
  },
  {
   "cell_type": "markdown",
   "id": "ca04b2e8",
   "metadata": {},
   "source": [
    "Note that `==(\"License\")` is a condition specifying which metadata style should be changed. In this case only metadata whose name is exactly `\"License\"`, but we could use an arbitrary rule here."
   ]
  },
  {
   "cell_type": "code",
   "execution_count": 19,
   "id": "0b4e1fae",
   "metadata": {},
   "outputs": [
    {
     "data": {
      "text/plain": [
       "(\"CC BY-4.0\", :note)"
      ]
     },
     "execution_count": 19,
     "metadata": {},
     "output_type": "execute_result"
    }
   ],
   "source": [
    "metadata(df, \"License\", style=true)"
   ]
  },
  {
   "cell_type": "markdown",
   "id": "4dc6a967",
   "metadata": {},
   "source": [
    "Now let us save the metadata to TOML without style and restore it (note that we could easily save this TOML to disk for persistence of metadata):"
   ]
  },
  {
   "cell_type": "code",
   "execution_count": 20,
   "id": "fd3c32f1",
   "metadata": {},
   "outputs": [
    {
     "name": "stdout",
     "output_type": "stream",
     "text": [
      "style = false\n",
      "\n",
      "[colmetadata.gdppc]\n",
      "label = \"GDP per capita (current USD)\"\n",
      "note = \"GDP: gross domestic product\\npopulation taken in midyear\"\n",
      "\n",
      "[metadata]\n",
      "License = \"CC BY-4.0\"\n",
      "Periodicity = \"Annual\"\n",
      "caption = \"GDP per capita of Poland\"\n",
      "note = \"World Bank national accounts data, and OECD National Accounts data files.\"\n",
      "\n"
     ]
    }
   ],
   "source": [
    "toml_meta = meta2toml(df, style=false);\n",
    "println(toml_meta)"
   ]
  },
  {
   "cell_type": "code",
   "execution_count": 21,
   "id": "18b749ed",
   "metadata": {},
   "outputs": [
    {
     "data": {
      "text/html": [
       "<div><div style = \"float: left;\"><span>4×2 DataFrame</span></div><div style = \"clear: both;\"></div></div><div class = \"data-frame\" style = \"overflow-x: scroll;\"><table class = \"data-frame\" style = \"margin-bottom: 6px;\"><thead><tr class = \"header\"><th class = \"rowNumber\" style = \"font-weight: bold; text-align: right;\">Row</th><th style = \"text-align: left;\">year</th><th style = \"text-align: left;\">gdppc</th></tr><tr class = \"subheader headerLastRow\"><th class = \"rowNumber\" style = \"font-weight: bold; text-align: right;\"></th><th title = \"Int64\" style = \"text-align: left;\">Int64</th><th title = \"Float64\" style = \"text-align: left;\">Float64</th></tr></thead><tbody><tr><td class = \"rowNumber\" style = \"font-weight: bold; text-align: right;\">1</td><td style = \"text-align: right;\">2018</td><td style = \"text-align: right;\">15468.5</td></tr><tr><td class = \"rowNumber\" style = \"font-weight: bold; text-align: right;\">2</td><td style = \"text-align: right;\">2019</td><td style = \"text-align: right;\">15732.2</td></tr><tr><td class = \"rowNumber\" style = \"font-weight: bold; text-align: right;\">3</td><td style = \"text-align: right;\">2020</td><td style = \"text-align: right;\">15742.5</td></tr><tr><td class = \"rowNumber\" style = \"font-weight: bold; text-align: right;\">4</td><td style = \"text-align: right;\">2021</td><td style = \"text-align: right;\">17840.9</td></tr></tbody></table></div>"
      ],
      "text/latex": [
       "\\begin{tabular}{r|cc}\n",
       "\t& year & gdppc\\\\\n",
       "\t\\hline\n",
       "\t& Int64 & Float64\\\\\n",
       "\t\\hline\n",
       "\t1 & 2018 & 15468.5 \\\\\n",
       "\t2 & 2019 & 15732.2 \\\\\n",
       "\t3 & 2020 & 15742.5 \\\\\n",
       "\t4 & 2021 & 17840.9 \\\\\n",
       "\\end{tabular}\n"
      ],
      "text/plain": [
       "\u001b[1m4×2 DataFrame\u001b[0m\n",
       "\u001b[1m Row \u001b[0m│\u001b[1m year  \u001b[0m\u001b[1m gdppc   \u001b[0m\n",
       "     │\u001b[90m Int64 \u001b[0m\u001b[90m Float64 \u001b[0m\n",
       "─────┼────────────────\n",
       "   1 │  2018  15468.5\n",
       "   2 │  2019  15732.2\n",
       "   3 │  2020  15742.5\n",
       "   4 │  2021  17840.9"
      ]
     },
     "execution_count": 21,
     "metadata": {},
     "output_type": "execute_result"
    }
   ],
   "source": [
    "toml2meta!(df, toml_meta)"
   ]
  },
  {
   "cell_type": "code",
   "execution_count": 22,
   "id": "07db01c7",
   "metadata": {},
   "outputs": [
    {
     "name": "stdout",
     "output_type": "stream",
     "text": [
      "style = true\n",
      "\n",
      "[colmetadata.gdppc]\n",
      "label = [\"GDP per capita (current USD)\", \"default\"]\n",
      "note = [\"GDP: gross domestic product\\npopulation taken in midyear\", \"default\"]\n",
      "\n",
      "[metadata]\n",
      "License = [\"CC BY-4.0\", \"default\"]\n",
      "Periodicity = [\"Annual\", \"default\"]\n",
      "caption = [\"GDP per capita of Poland\", \"default\"]\n",
      "note = [\"World Bank national accounts data, and OECD National Accounts data files.\", \"default\"]\n",
      "\n"
     ]
    }
   ],
   "source": [
    "println(meta2toml(df))"
   ]
  },
  {
   "cell_type": "markdown",
   "id": "f68d9351",
   "metadata": {},
   "source": [
    "Note that since we have not saved metadata style information in TOML, by default `:default` was restored."
   ]
  },
  {
   "cell_type": "markdown",
   "id": "9a84cc7a",
   "metadata": {},
   "source": [
    "Change all metadata style to `:note` (if we skip passing condition all metadata gets `:note` style):"
   ]
  },
  {
   "cell_type": "code",
   "execution_count": 23,
   "id": "b51a3d18",
   "metadata": {},
   "outputs": [],
   "source": [
    "setallmetadatastyle!(df);"
   ]
  },
  {
   "cell_type": "code",
   "execution_count": 24,
   "id": "18b09d2a",
   "metadata": {},
   "outputs": [
    {
     "name": "stdout",
     "output_type": "stream",
     "text": [
      "style = true\n",
      "\n",
      "[colmetadata.gdppc]\n",
      "label = [\"GDP per capita (current USD)\", \"note\"]\n",
      "note = [\"GDP: gross domestic product\\npopulation taken in midyear\", \"note\"]\n",
      "\n",
      "[metadata]\n",
      "License = [\"CC BY-4.0\", \"note\"]\n",
      "Periodicity = [\"Annual\", \"note\"]\n",
      "caption = [\"GDP per capita of Poland\", \"note\"]\n",
      "note = [\"World Bank national accounts data, and OECD National Accounts data files.\", \"note\"]\n",
      "\n"
     ]
    }
   ],
   "source": [
    "println(meta2toml(df))"
   ]
  },
  {
   "cell_type": "markdown",
   "id": "dad082a8",
   "metadata": {},
   "source": [
    "### Interchanging metadata between tables using dictionaries"
   ]
  },
  {
   "cell_type": "markdown",
   "id": "a6837732",
   "metadata": {},
   "source": [
    "Create a copy of our data frame"
   ]
  },
  {
   "cell_type": "code",
   "execution_count": 25,
   "id": "cc403b21",
   "metadata": {},
   "outputs": [
    {
     "data": {
      "text/html": [
       "<div><div style = \"float: left;\"><span>4×2 DataFrame</span></div><div style = \"clear: both;\"></div></div><div class = \"data-frame\" style = \"overflow-x: scroll;\"><table class = \"data-frame\" style = \"margin-bottom: 6px;\"><thead><tr class = \"header\"><th class = \"rowNumber\" style = \"font-weight: bold; text-align: right;\">Row</th><th style = \"text-align: left;\">year</th><th style = \"text-align: left;\">gdppc</th></tr><tr class = \"subheader headerLastRow\"><th class = \"rowNumber\" style = \"font-weight: bold; text-align: right;\"></th><th title = \"Int64\" style = \"text-align: left;\">Int64</th><th title = \"Float64\" style = \"text-align: left;\">Float64</th></tr></thead><tbody><tr><td class = \"rowNumber\" style = \"font-weight: bold; text-align: right;\">1</td><td style = \"text-align: right;\">2018</td><td style = \"text-align: right;\">15468.5</td></tr><tr><td class = \"rowNumber\" style = \"font-weight: bold; text-align: right;\">2</td><td style = \"text-align: right;\">2019</td><td style = \"text-align: right;\">15732.2</td></tr><tr><td class = \"rowNumber\" style = \"font-weight: bold; text-align: right;\">3</td><td style = \"text-align: right;\">2020</td><td style = \"text-align: right;\">15742.5</td></tr><tr><td class = \"rowNumber\" style = \"font-weight: bold; text-align: right;\">4</td><td style = \"text-align: right;\">2021</td><td style = \"text-align: right;\">17840.9</td></tr></tbody></table></div>"
      ],
      "text/latex": [
       "\\begin{tabular}{r|cc}\n",
       "\t& year & gdppc\\\\\n",
       "\t\\hline\n",
       "\t& Int64 & Float64\\\\\n",
       "\t\\hline\n",
       "\t1 & 2018 & 15468.5 \\\\\n",
       "\t2 & 2019 & 15732.2 \\\\\n",
       "\t3 & 2020 & 15742.5 \\\\\n",
       "\t4 & 2021 & 17840.9 \\\\\n",
       "\\end{tabular}\n"
      ],
      "text/plain": [
       "\u001b[1m4×2 DataFrame\u001b[0m\n",
       "\u001b[1m Row \u001b[0m│\u001b[1m year  \u001b[0m\u001b[1m gdppc   \u001b[0m\n",
       "     │\u001b[90m Int64 \u001b[0m\u001b[90m Float64 \u001b[0m\n",
       "─────┼────────────────\n",
       "   1 │  2018  15468.5\n",
       "   2 │  2019  15732.2\n",
       "   3 │  2020  15742.5\n",
       "   4 │  2021  17840.9"
      ]
     },
     "execution_count": 25,
     "metadata": {},
     "output_type": "execute_result"
    }
   ],
   "source": [
    "df2 = copy(df)"
   ]
  },
  {
   "cell_type": "code",
   "execution_count": 26,
   "id": "63d0099d",
   "metadata": {},
   "outputs": [
    {
     "name": "stdout",
     "output_type": "stream",
     "text": [
      "style = true\n",
      "\n",
      "[colmetadata.gdppc]\n",
      "label = [\"GDP per capita (current USD)\", \"note\"]\n",
      "note = [\"GDP: gross domestic product\\npopulation taken in midyear\", \"note\"]\n",
      "\n",
      "[metadata]\n",
      "License = [\"CC BY-4.0\", \"note\"]\n",
      "Periodicity = [\"Annual\", \"note\"]\n",
      "caption = [\"GDP per capita of Poland\", \"note\"]\n",
      "note = [\"World Bank national accounts data, and OECD National Accounts data files.\", \"note\"]\n",
      "\n"
     ]
    }
   ],
   "source": [
    "println(meta2toml(df2))"
   ]
  },
  {
   "cell_type": "markdown",
   "id": "88f6da77",
   "metadata": {},
   "source": [
    "Now drop all metadata from it:"
   ]
  },
  {
   "cell_type": "code",
   "execution_count": 27,
   "id": "eb5dfc51",
   "metadata": {},
   "outputs": [
    {
     "name": "stdout",
     "output_type": "stream",
     "text": [
      "style = true\n",
      "\n",
      "[colmetadata]\n",
      "\n",
      "[metadata]\n",
      "\n"
     ]
    }
   ],
   "source": [
    "emptymetadata!(df2)\n",
    "emptycolmetadata!(df2)\n",
    "println(meta2toml(df2))"
   ]
  },
  {
   "cell_type": "markdown",
   "id": "5975b098",
   "metadata": {},
   "source": [
    "We will restore this metadata from `df` data frame (equally well these dictionaries could be saved somewhere on disk)."
   ]
  },
  {
   "cell_type": "markdown",
   "id": "d1424ed3",
   "metadata": {},
   "source": [
    "First without style information (`:default` is used):"
   ]
  },
  {
   "cell_type": "code",
   "execution_count": 28,
   "id": "600f6c62",
   "metadata": {},
   "outputs": [
    {
     "name": "stdout",
     "output_type": "stream",
     "text": [
      "style = true\n",
      "\n",
      "[colmetadata.gdppc]\n",
      "label = [\"GDP per capita (current USD)\", \"default\"]\n",
      "note = [\"GDP: gross domestic product\\npopulation taken in midyear\", \"default\"]\n",
      "\n",
      "[metadata]\n",
      "License = [\"CC BY-4.0\", \"default\"]\n",
      "Periodicity = [\"Annual\", \"default\"]\n",
      "caption = [\"GDP per capita of Poland\", \"default\"]\n",
      "note = [\"World Bank national accounts data, and OECD National Accounts data files.\", \"default\"]\n",
      "\n"
     ]
    }
   ],
   "source": [
    "dict2metadata!(df2, metadata(df))\n",
    "dict2colmetadata!(df2, colmetadata(df))\n",
    "println(meta2toml(df2))"
   ]
  },
  {
   "cell_type": "markdown",
   "id": "e538481c",
   "metadata": {},
   "source": [
    "Now with style:"
   ]
  },
  {
   "cell_type": "code",
   "execution_count": 29,
   "id": "58fb9395",
   "metadata": {},
   "outputs": [
    {
     "name": "stdout",
     "output_type": "stream",
     "text": [
      "style = true\n",
      "\n",
      "[colmetadata.gdppc]\n",
      "label = [\"GDP per capita (current USD)\", \"note\"]\n",
      "note = [\"GDP: gross domestic product\\npopulation taken in midyear\", \"note\"]\n",
      "\n",
      "[metadata]\n",
      "License = [\"CC BY-4.0\", \"note\"]\n",
      "Periodicity = [\"Annual\", \"note\"]\n",
      "caption = [\"GDP per capita of Poland\", \"note\"]\n",
      "note = [\"World Bank national accounts data, and OECD National Accounts data files.\", \"note\"]\n",
      "\n"
     ]
    }
   ],
   "source": [
    "dict2metadata!(df2, metadata(df, style=true), style=true)\n",
    "dict2colmetadata!(df2, colmetadata(df, style=true), style=true)\n",
    "println(meta2toml(df2))"
   ]
  },
  {
   "cell_type": "markdown",
   "id": "8a5a3f48",
   "metadata": {},
   "source": [
    "### Tracking operations"
   ]
  },
  {
   "cell_type": "markdown",
   "id": "46af2e64",
   "metadata": {},
   "source": [
    "You can use `@track` macro to record operations performed on a data frame:"
   ]
  },
  {
   "cell_type": "code",
   "execution_count": 30,
   "id": "fe5f3a1a",
   "metadata": {},
   "outputs": [
    {
     "data": {
      "text/html": [
       "<div><div style = \"float: left;\"><span>8×2 DataFrame</span></div><div style = \"clear: both;\"></div></div><div class = \"data-frame\" style = \"overflow-x: scroll;\"><table class = \"data-frame\" style = \"margin-bottom: 6px;\"><thead><tr class = \"header\"><th class = \"rowNumber\" style = \"font-weight: bold; text-align: right;\">Row</th><th style = \"text-align: left;\">group</th><th style = \"text-align: left;\">value</th></tr><tr class = \"subheader headerLastRow\"><th class = \"rowNumber\" style = \"font-weight: bold; text-align: right;\"></th><th title = \"Int64\" style = \"text-align: left;\">Int64</th><th title = \"Int64\" style = \"text-align: left;\">Int64</th></tr></thead><tbody><tr><td class = \"rowNumber\" style = \"font-weight: bold; text-align: right;\">1</td><td style = \"text-align: right;\">1</td><td style = \"text-align: right;\">1</td></tr><tr><td class = \"rowNumber\" style = \"font-weight: bold; text-align: right;\">2</td><td style = \"text-align: right;\">2</td><td style = \"text-align: right;\">2</td></tr><tr><td class = \"rowNumber\" style = \"font-weight: bold; text-align: right;\">3</td><td style = \"text-align: right;\">1</td><td style = \"text-align: right;\">3</td></tr><tr><td class = \"rowNumber\" style = \"font-weight: bold; text-align: right;\">4</td><td style = \"text-align: right;\">2</td><td style = \"text-align: right;\">4</td></tr><tr><td class = \"rowNumber\" style = \"font-weight: bold; text-align: right;\">5</td><td style = \"text-align: right;\">1</td><td style = \"text-align: right;\">5</td></tr><tr><td class = \"rowNumber\" style = \"font-weight: bold; text-align: right;\">6</td><td style = \"text-align: right;\">2</td><td style = \"text-align: right;\">6</td></tr><tr><td class = \"rowNumber\" style = \"font-weight: bold; text-align: right;\">7</td><td style = \"text-align: right;\">1</td><td style = \"text-align: right;\">7</td></tr><tr><td class = \"rowNumber\" style = \"font-weight: bold; text-align: right;\">8</td><td style = \"text-align: right;\">2</td><td style = \"text-align: right;\">8</td></tr></tbody></table></div>"
      ],
      "text/latex": [
       "\\begin{tabular}{r|cc}\n",
       "\t& group & value\\\\\n",
       "\t\\hline\n",
       "\t& Int64 & Int64\\\\\n",
       "\t\\hline\n",
       "\t1 & 1 & 1 \\\\\n",
       "\t2 & 2 & 2 \\\\\n",
       "\t3 & 1 & 3 \\\\\n",
       "\t4 & 2 & 4 \\\\\n",
       "\t5 & 1 & 5 \\\\\n",
       "\t6 & 2 & 6 \\\\\n",
       "\t7 & 1 & 7 \\\\\n",
       "\t8 & 2 & 8 \\\\\n",
       "\\end{tabular}\n"
      ],
      "text/plain": [
       "\u001b[1m8×2 DataFrame\u001b[0m\n",
       "\u001b[1m Row \u001b[0m│\u001b[1m group \u001b[0m\u001b[1m value \u001b[0m\n",
       "     │\u001b[90m Int64 \u001b[0m\u001b[90m Int64 \u001b[0m\n",
       "─────┼──────────────\n",
       "   1 │     1      1\n",
       "   2 │     2      2\n",
       "   3 │     1      3\n",
       "   4 │     2      4\n",
       "   5 │     1      5\n",
       "   6 │     2      6\n",
       "   7 │     1      7\n",
       "   8 │     2      8"
      ]
     },
     "execution_count": 30,
     "metadata": {},
     "output_type": "execute_result"
    }
   ],
   "source": [
    "df_detail = DataFrame(group=repeat(1:2, 4), value=1:8)"
   ]
  },
  {
   "cell_type": "code",
   "execution_count": 31,
   "id": "63e5305d",
   "metadata": {},
   "outputs": [
    {
     "data": {
      "text/html": [
       "<p><b>GroupedDataFrame with 2 groups based on key: group</b></p><div><div style = \"float: left;\"><span>First Group (1 row): group = 1</span></div><div style = \"clear: both;\"></div></div><div class = \"data-frame\" style = \"overflow-x: scroll;\"><table class = \"data-frame\" style = \"margin-bottom: 6px;\"><thead><tr class = \"header\"><th class = \"rowNumber\" style = \"font-weight: bold; text-align: right;\">Row</th><th style = \"text-align: left;\">group</th><th style = \"text-align: left;\">value_sum</th></tr><tr class = \"subheader headerLastRow\"><th class = \"rowNumber\" style = \"font-weight: bold; text-align: right;\"></th><th title = \"Int64\" style = \"text-align: left;\">Int64</th><th title = \"Int64\" style = \"text-align: left;\">Int64</th></tr></thead><tbody><tr><td class = \"rowNumber\" style = \"font-weight: bold; text-align: right;\">1</td><td style = \"text-align: right;\">1</td><td style = \"text-align: right;\">16</td></tr></tbody></table></div><p>&vellip;</p><div><div style = \"float: left;\"><span>Last Group (1 row): group = 2</span></div><div style = \"clear: both;\"></div></div><div class = \"data-frame\" style = \"overflow-x: scroll;\"><table class = \"data-frame\" style = \"margin-bottom: 6px;\"><thead><tr class = \"header\"><th class = \"rowNumber\" style = \"font-weight: bold; text-align: right;\">Row</th><th style = \"text-align: left;\">group</th><th style = \"text-align: left;\">value_sum</th></tr><tr class = \"subheader headerLastRow\"><th class = \"rowNumber\" style = \"font-weight: bold; text-align: right;\"></th><th title = \"Int64\" style = \"text-align: left;\">Int64</th><th title = \"Int64\" style = \"text-align: left;\">Int64</th></tr></thead><tbody><tr><td class = \"rowNumber\" style = \"font-weight: bold; text-align: right;\">1</td><td style = \"text-align: right;\">2</td><td style = \"text-align: right;\">20</td></tr></tbody></table></div>"
      ],
      "text/latex": [
       "GroupedDataFrame with 2 groups based on key: group\n",
       "\n",
       "First Group (1 row): group = 1\n",
       "\n",
       "\\begin{tabular}{r|cc}\n",
       "\t& group & value\\_sum\\\\\n",
       "\t\\hline\n",
       "\t& Int64 & Int64\\\\\n",
       "\t\\hline\n",
       "\t1 & 1 & 16 \\\\\n",
       "\\end{tabular}\n",
       "\n",
       "$\\dots$\n",
       "\n",
       "Last Group (1 row): group = 2\n",
       "\n",
       "\\begin{tabular}{r|cc}\n",
       "\t& group & value\\_sum\\\\\n",
       "\t\\hline\n",
       "\t& Int64 & Int64\\\\\n",
       "\t\\hline\n",
       "\t1 & 2 & 20 \\\\\n",
       "\\end{tabular}\n"
      ],
      "text/plain": [
       "GroupedDataFrame with 2 groups based on key: group\n",
       "First Group (1 row): group = 1\n",
       "\u001b[1m Row \u001b[0m│\u001b[1m group \u001b[0m\u001b[1m value_sum \u001b[0m\n",
       "     │\u001b[90m Int64 \u001b[0m\u001b[90m Int64     \u001b[0m\n",
       "─────┼──────────────────\n",
       "   1 │     1         16\n",
       "⋮\n",
       "Last Group (1 row): group = 2\n",
       "\u001b[1m Row \u001b[0m│\u001b[1m group \u001b[0m\u001b[1m value_sum \u001b[0m\n",
       "     │\u001b[90m Int64 \u001b[0m\u001b[90m Int64     \u001b[0m\n",
       "─────┼──────────────────\n",
       "   1 │     2         20"
      ]
     },
     "execution_count": 31,
     "metadata": {},
     "output_type": "execute_result"
    }
   ],
   "source": [
    "@track gdf_agg = combine(groupby(df_detail, :group, sort=true), :value => sum, ungroup=false)"
   ]
  },
  {
   "cell_type": "markdown",
   "id": "5734e98b",
   "metadata": {},
   "source": [
    "Note that a metadata entry is added tracking the operation that lead to the obtaining parent data frame of the result of the operation."
   ]
  },
  {
   "cell_type": "code",
   "execution_count": 32,
   "id": "5a4fd5d5",
   "metadata": {},
   "outputs": [
    {
     "name": "stdout",
     "output_type": "stream",
     "text": [
      "style = true\n",
      "\n",
      "[colmetadata]\n",
      "\n",
      "[metadata]\n",
      "\"track_2022-11-13T21:17:40.609\" = [\"gdf_agg = combine(groupby(df_detail, :group, sort = true), :value => sum, ungroup = false)\", \"note\"]\n",
      "\n"
     ]
    }
   ],
   "source": [
    "println(meta2toml(parent(gdf_agg)))"
   ]
  },
  {
   "cell_type": "markdown",
   "id": "3029f1c7",
   "metadata": {},
   "source": [
    "This works because in DataFrames.jl:\n",
    "* `:note` style metadata can be added to any object supporting metadata and tracking metadata has `:note` style, because it is time-stamped.\n",
    "* although `GroupedDataFrame` does not support metadata we internally call `parent` to work around this."
   ]
  },
  {
   "cell_type": "markdown",
   "id": "602eec09",
   "metadata": {},
   "source": [
    "Now let us track several operations:"
   ]
  },
  {
   "cell_type": "code",
   "execution_count": 4,
   "id": "b77f5e3d",
   "metadata": {},
   "outputs": [
    {
     "data": {
      "text/html": [
       "<div><div style = \"float: left;\"><span>4×1 DataFrame</span></div><div style = \"clear: both;\"></div></div><div class = \"data-frame\" style = \"overflow-x: scroll;\"><table class = \"data-frame\" style = \"margin-bottom: 6px;\"><thead><tr class = \"header\"><th class = \"rowNumber\" style = \"font-weight: bold; text-align: right;\">Row</th><th style = \"text-align: left;\">col</th></tr><tr class = \"subheader headerLastRow\"><th class = \"rowNumber\" style = \"font-weight: bold; text-align: right;\"></th><th title = \"Int64\" style = \"text-align: left;\">Int64</th></tr></thead><tbody><tr><td class = \"rowNumber\" style = \"font-weight: bold; text-align: right;\">1</td><td style = \"text-align: right;\">4</td></tr><tr><td class = \"rowNumber\" style = \"font-weight: bold; text-align: right;\">2</td><td style = \"text-align: right;\">1</td></tr><tr><td class = \"rowNumber\" style = \"font-weight: bold; text-align: right;\">3</td><td style = \"text-align: right;\">3</td></tr><tr><td class = \"rowNumber\" style = \"font-weight: bold; text-align: right;\">4</td><td style = \"text-align: right;\">2</td></tr></tbody></table></div>"
      ],
      "text/latex": [
       "\\begin{tabular}{r|c}\n",
       "\t& col\\\\\n",
       "\t\\hline\n",
       "\t& Int64\\\\\n",
       "\t\\hline\n",
       "\t1 & 4 \\\\\n",
       "\t2 & 1 \\\\\n",
       "\t3 & 3 \\\\\n",
       "\t4 & 2 \\\\\n",
       "\\end{tabular}\n"
      ],
      "text/plain": [
       "\u001b[1m4×1 DataFrame\u001b[0m\n",
       "\u001b[1m Row \u001b[0m│\u001b[1m col   \u001b[0m\n",
       "     │\u001b[90m Int64 \u001b[0m\n",
       "─────┼───────\n",
       "   1 │     4\n",
       "   2 │     1\n",
       "   3 │     3\n",
       "   4 │     2"
      ]
     },
     "execution_count": 4,
     "metadata": {},
     "output_type": "execute_result"
    }
   ],
   "source": [
    "@track df = DataFrame(col = [4, 1, 3, 2])"
   ]
  },
  {
   "cell_type": "code",
   "execution_count": 5,
   "id": "a217508a",
   "metadata": {},
   "outputs": [
    {
     "data": {
      "text/html": [
       "<div><div style = \"float: left;\"><span>4×1 DataFrame</span></div><div style = \"clear: both;\"></div></div><div class = \"data-frame\" style = \"overflow-x: scroll;\"><table class = \"data-frame\" style = \"margin-bottom: 6px;\"><thead><tr class = \"header\"><th class = \"rowNumber\" style = \"font-weight: bold; text-align: right;\">Row</th><th style = \"text-align: left;\">col</th></tr><tr class = \"subheader headerLastRow\"><th class = \"rowNumber\" style = \"font-weight: bold; text-align: right;\"></th><th title = \"Int64\" style = \"text-align: left;\">Int64</th></tr></thead><tbody><tr><td class = \"rowNumber\" style = \"font-weight: bold; text-align: right;\">1</td><td style = \"text-align: right;\">1</td></tr><tr><td class = \"rowNumber\" style = \"font-weight: bold; text-align: right;\">2</td><td style = \"text-align: right;\">2</td></tr><tr><td class = \"rowNumber\" style = \"font-weight: bold; text-align: right;\">3</td><td style = \"text-align: right;\">3</td></tr><tr><td class = \"rowNumber\" style = \"font-weight: bold; text-align: right;\">4</td><td style = \"text-align: right;\">4</td></tr></tbody></table></div>"
      ],
      "text/latex": [
       "\\begin{tabular}{r|c}\n",
       "\t& col\\\\\n",
       "\t\\hline\n",
       "\t& Int64\\\\\n",
       "\t\\hline\n",
       "\t1 & 1 \\\\\n",
       "\t2 & 2 \\\\\n",
       "\t3 & 3 \\\\\n",
       "\t4 & 4 \\\\\n",
       "\\end{tabular}\n"
      ],
      "text/plain": [
       "\u001b[1m4×1 DataFrame\u001b[0m\n",
       "\u001b[1m Row \u001b[0m│\u001b[1m col   \u001b[0m\n",
       "     │\u001b[90m Int64 \u001b[0m\n",
       "─────┼───────\n",
       "   1 │     1\n",
       "   2 │     2\n",
       "   3 │     3\n",
       "   4 │     4"
      ]
     },
     "execution_count": 5,
     "metadata": {},
     "output_type": "execute_result"
    }
   ],
   "source": [
    "@track sort!(df)"
   ]
  },
  {
   "cell_type": "code",
   "execution_count": 6,
   "id": "35fcc1dc",
   "metadata": {},
   "outputs": [
    {
     "data": {
      "text/html": [
       "<div><div style = \"float: left;\"><span>4×2 DataFrame</span></div><div style = \"clear: both;\"></div></div><div class = \"data-frame\" style = \"overflow-x: scroll;\"><table class = \"data-frame\" style = \"margin-bottom: 6px;\"><thead><tr class = \"header\"><th class = \"rowNumber\" style = \"font-weight: bold; text-align: right;\">Row</th><th style = \"text-align: left;\">col</th><th style = \"text-align: left;\">col_log</th></tr><tr class = \"subheader headerLastRow\"><th class = \"rowNumber\" style = \"font-weight: bold; text-align: right;\"></th><th title = \"Int64\" style = \"text-align: left;\">Int64</th><th title = \"Float64\" style = \"text-align: left;\">Float64</th></tr></thead><tbody><tr><td class = \"rowNumber\" style = \"font-weight: bold; text-align: right;\">1</td><td style = \"text-align: right;\">1</td><td style = \"text-align: right;\">0.0</td></tr><tr><td class = \"rowNumber\" style = \"font-weight: bold; text-align: right;\">2</td><td style = \"text-align: right;\">2</td><td style = \"text-align: right;\">0.693147</td></tr><tr><td class = \"rowNumber\" style = \"font-weight: bold; text-align: right;\">3</td><td style = \"text-align: right;\">3</td><td style = \"text-align: right;\">1.09861</td></tr><tr><td class = \"rowNumber\" style = \"font-weight: bold; text-align: right;\">4</td><td style = \"text-align: right;\">4</td><td style = \"text-align: right;\">1.38629</td></tr></tbody></table></div>"
      ],
      "text/latex": [
       "\\begin{tabular}{r|cc}\n",
       "\t& col & col\\_log\\\\\n",
       "\t\\hline\n",
       "\t& Int64 & Float64\\\\\n",
       "\t\\hline\n",
       "\t1 & 1 & 0.0 \\\\\n",
       "\t2 & 2 & 0.693147 \\\\\n",
       "\t3 & 3 & 1.09861 \\\\\n",
       "\t4 & 4 & 1.38629 \\\\\n",
       "\\end{tabular}\n"
      ],
      "text/plain": [
       "\u001b[1m4×2 DataFrame\u001b[0m\n",
       "\u001b[1m Row \u001b[0m│\u001b[1m col   \u001b[0m\u001b[1m col_log  \u001b[0m\n",
       "     │\u001b[90m Int64 \u001b[0m\u001b[90m Float64  \u001b[0m\n",
       "─────┼─────────────────\n",
       "   1 │     1  0.0\n",
       "   2 │     2  0.693147\n",
       "   3 │     3  1.09861\n",
       "   4 │     4  1.38629"
      ]
     },
     "execution_count": 6,
     "metadata": {},
     "output_type": "execute_result"
    }
   ],
   "source": [
    "@track transform!(df, :col => ByRow(log))"
   ]
  },
  {
   "cell_type": "code",
   "execution_count": 7,
   "id": "5617a8e1",
   "metadata": {},
   "outputs": [
    {
     "data": {
      "text/html": [
       "<div><div style = \"float: left;\"><span>4×3 DataFrame</span></div><div style = \"clear: both;\"></div></div><div class = \"data-frame\" style = \"overflow-x: scroll;\"><table class = \"data-frame\" style = \"margin-bottom: 6px;\"><thead><tr class = \"header\"><th class = \"rowNumber\" style = \"font-weight: bold; text-align: right;\">Row</th><th style = \"text-align: left;\">col</th><th style = \"text-align: left;\">col_log</th><th style = \"text-align: left;\">col_exp</th></tr><tr class = \"subheader headerLastRow\"><th class = \"rowNumber\" style = \"font-weight: bold; text-align: right;\"></th><th title = \"Int64\" style = \"text-align: left;\">Int64</th><th title = \"Float64\" style = \"text-align: left;\">Float64</th><th title = \"Float64\" style = \"text-align: left;\">Float64</th></tr></thead><tbody><tr><td class = \"rowNumber\" style = \"font-weight: bold; text-align: right;\">1</td><td style = \"text-align: right;\">1</td><td style = \"text-align: right;\">0.0</td><td style = \"text-align: right;\">2.71828</td></tr><tr><td class = \"rowNumber\" style = \"font-weight: bold; text-align: right;\">2</td><td style = \"text-align: right;\">2</td><td style = \"text-align: right;\">0.693147</td><td style = \"text-align: right;\">7.38906</td></tr><tr><td class = \"rowNumber\" style = \"font-weight: bold; text-align: right;\">3</td><td style = \"text-align: right;\">3</td><td style = \"text-align: right;\">1.09861</td><td style = \"text-align: right;\">20.0855</td></tr><tr><td class = \"rowNumber\" style = \"font-weight: bold; text-align: right;\">4</td><td style = \"text-align: right;\">4</td><td style = \"text-align: right;\">1.38629</td><td style = \"text-align: right;\">54.5982</td></tr></tbody></table></div>"
      ],
      "text/latex": [
       "\\begin{tabular}{r|ccc}\n",
       "\t& col & col\\_log & col\\_exp\\\\\n",
       "\t\\hline\n",
       "\t& Int64 & Float64 & Float64\\\\\n",
       "\t\\hline\n",
       "\t1 & 1 & 0.0 & 2.71828 \\\\\n",
       "\t2 & 2 & 0.693147 & 7.38906 \\\\\n",
       "\t3 & 3 & 1.09861 & 20.0855 \\\\\n",
       "\t4 & 4 & 1.38629 & 54.5982 \\\\\n",
       "\\end{tabular}\n"
      ],
      "text/plain": [
       "\u001b[1m4×3 DataFrame\u001b[0m\n",
       "\u001b[1m Row \u001b[0m│\u001b[1m col   \u001b[0m\u001b[1m col_log  \u001b[0m\u001b[1m col_exp  \u001b[0m\n",
       "     │\u001b[90m Int64 \u001b[0m\u001b[90m Float64  \u001b[0m\u001b[90m Float64  \u001b[0m\n",
       "─────┼───────────────────────────\n",
       "   1 │     1  0.0        2.71828\n",
       "   2 │     2  0.693147   7.38906\n",
       "   3 │     3  1.09861   20.0855\n",
       "   4 │     4  1.38629   54.5982"
      ]
     },
     "execution_count": 7,
     "metadata": {},
     "output_type": "execute_result"
    }
   ],
   "source": [
    "@track transform!(df, :col => ByRow(exp))"
   ]
  },
  {
   "cell_type": "markdown",
   "id": "34415928",
   "metadata": {},
   "source": [
    "Let us check if they got tracked:"
   ]
  },
  {
   "cell_type": "code",
   "execution_count": 8,
   "id": "3c0bb2b2",
   "metadata": {},
   "outputs": [
    {
     "data": {
      "text/plain": [
       "Dict{String, String} with 4 entries:\n",
       "  \"track_2022-11-13T22:43:06.801\" => \"transform!(df, :col => ByRow(log))\"\n",
       "  \"track_2022-11-13T22:42:59.481\" => \"sort!(df)\"\n",
       "  \"track_2022-11-13T22:43:13.474\" => \"transform!(df, :col => ByRow(exp))\"\n",
       "  \"track_2022-11-13T22:42:50.522\" => \"df = DataFrame(col = [4, 1, 3, 2])\""
      ]
     },
     "execution_count": 8,
     "metadata": {},
     "output_type": "execute_result"
    }
   ],
   "source": [
    "metadata(df)"
   ]
  },
  {
   "cell_type": "markdown",
   "id": "7595c985",
   "metadata": {},
   "source": [
    "Now do the same but just printing the performed operations in chronological order:"
   ]
  },
  {
   "cell_type": "code",
   "execution_count": 15,
   "id": "e029c287",
   "metadata": {},
   "outputs": [
    {
     "name": "stdout",
     "output_type": "stream",
     "text": [
      "df = DataFrame(col = [4, 1, 3, 2])\n",
      "sort!(df)\n",
      "transform!(df, :col => ByRow(log))\n",
      "transform!(df, :col => ByRow(exp))\n"
     ]
    }
   ],
   "source": [
    "tracklog(df)"
   ]
  },
  {
   "cell_type": "markdown",
   "id": "9a0d06b2",
   "metadata": {},
   "source": [
    "### A final step - let us see the metadata at work"
   ]
  },
  {
   "cell_type": "markdown",
   "id": "dec90d36",
   "metadata": {},
   "source": [
    "First - do pretty printing of the table:"
   ]
  },
  {
   "cell_type": "code",
   "execution_count": 33,
   "id": "7098fa69",
   "metadata": {},
   "outputs": [
    {
     "name": "stdout",
     "output_type": "stream",
     "text": [
      "\u001b[1m4×2 DataFrame\u001b[0m\n",
      "\u001b[1m Row \u001b[0m│\u001b[1m year  \u001b[0m\u001b[1m gdppc   \u001b[0m\n",
      "     │\u001b[90m Int64 \u001b[0m\u001b[90m Float64 \u001b[0m\n",
      "─────┼────────────────\n",
      "   1 │  2018  15468.5\n",
      "   2 │  2019  15732.2\n",
      "   3 │  2020  15742.5\n",
      "   4 │  2021  17840.9"
     ]
    }
   ],
   "source": [
    "show(df)"
   ]
  },
  {
   "cell_type": "code",
   "execution_count": 34,
   "id": "39023533",
   "metadata": {},
   "outputs": [
    {
     "name": "stdout",
     "output_type": "stream",
     "text": [
      "\u001b[1mGDP per capita of Poland\u001b[0m\n",
      "\u001b[1m Row \u001b[0m│\u001b[1m year \u001b[0m\u001b[1m GDP per capita (current USD) \u001b[0m\n",
      "─────┼────────────────────────────────────\n",
      "   1 │ 2018                       15468.5\n",
      "   2 │ 2019                       15732.2\n",
      "   3 │ 2020                       15742.5\n",
      "   4 │ 2021                       17840.9"
     ]
    }
   ],
   "source": [
    "show(df, header=labels(df), title=caption(df))"
   ]
  },
  {
   "cell_type": "code",
   "execution_count": 35,
   "id": "f04af56a",
   "metadata": {},
   "outputs": [
    {
     "data": {
      "text/html": [
       "<div><div style = \"float: left;\"><span>4×2 DataFrame</span></div><div style = \"clear: both;\"></div></div><div class = \"data-frame\" style = \"overflow-x: scroll;\"><table class = \"data-frame\" style = \"margin-bottom: 6px;\"><thead><tr class = \"header\"><th class = \"rowNumber\" style = \"font-weight: bold; text-align: right;\">Row</th><th style = \"text-align: left;\">year</th><th style = \"text-align: left;\">gdppc</th></tr><tr class = \"subheader headerLastRow\"><th class = \"rowNumber\" style = \"font-weight: bold; text-align: right;\"></th><th title = \"Int64\" style = \"text-align: left;\">Int64</th><th title = \"Float64\" style = \"text-align: left;\">Float64</th></tr></thead><tbody><tr><td class = \"rowNumber\" style = \"font-weight: bold; text-align: right;\">1</td><td style = \"text-align: right;\">2018</td><td style = \"text-align: right;\">15468.5</td></tr><tr><td class = \"rowNumber\" style = \"font-weight: bold; text-align: right;\">2</td><td style = \"text-align: right;\">2019</td><td style = \"text-align: right;\">15732.2</td></tr><tr><td class = \"rowNumber\" style = \"font-weight: bold; text-align: right;\">3</td><td style = \"text-align: right;\">2020</td><td style = \"text-align: right;\">15742.5</td></tr><tr><td class = \"rowNumber\" style = \"font-weight: bold; text-align: right;\">4</td><td style = \"text-align: right;\">2021</td><td style = \"text-align: right;\">17840.9</td></tr></tbody></table></div>"
      ],
      "text/latex": [
       "\\begin{tabular}{r|cc}\n",
       "\t& year & gdppc\\\\\n",
       "\t\\hline\n",
       "\t& Int64 & Float64\\\\\n",
       "\t\\hline\n",
       "\t1 & 2018 & 15468.5 \\\\\n",
       "\t2 & 2019 & 15732.2 \\\\\n",
       "\t3 & 2020 & 15742.5 \\\\\n",
       "\t4 & 2021 & 17840.9 \\\\\n",
       "\\end{tabular}\n"
      ],
      "text/plain": [
       "\u001b[1m4×2 DataFrame\u001b[0m\n",
       "\u001b[1m Row \u001b[0m│\u001b[1m year  \u001b[0m\u001b[1m gdppc   \u001b[0m\n",
       "     │\u001b[90m Int64 \u001b[0m\u001b[90m Float64 \u001b[0m\n",
       "─────┼────────────────\n",
       "   1 │  2018  15468.5\n",
       "   2 │  2019  15732.2\n",
       "   3 │  2020  15742.5\n",
       "   4 │  2021  17840.9"
      ]
     },
     "execution_count": 35,
     "metadata": {},
     "output_type": "execute_result"
    }
   ],
   "source": [
    "df"
   ]
  },
  {
   "cell_type": "code",
   "execution_count": 36,
   "id": "3f20f73e",
   "metadata": {},
   "outputs": [
    {
     "data": {
      "text/html": [
       "<div><div style = \"float: left;\"><span>GDP per capita of Poland</span></div><div style = \"clear: both;\"></div></div><div class = \"data-frame\" style = \"overflow-x: scroll;\"><table class = \"data-frame\" style = \"margin-bottom: 6px;\"><thead><tr class = \"header headerLastRow\"><th class = \"rowNumber\" style = \"font-weight: bold; text-align: right;\">Row</th><th style = \"text-align: left;\">year</th><th style = \"text-align: left;\">GDP per capita (current USD)</th></tr></thead><tbody><tr><td class = \"rowNumber\" style = \"font-weight: bold; text-align: right;\">1</td><td style = \"text-align: right;\">2018</td><td style = \"text-align: right;\">15468.5</td></tr><tr><td class = \"rowNumber\" style = \"font-weight: bold; text-align: right;\">2</td><td style = \"text-align: right;\">2019</td><td style = \"text-align: right;\">15732.2</td></tr><tr><td class = \"rowNumber\" style = \"font-weight: bold; text-align: right;\">3</td><td style = \"text-align: right;\">2020</td><td style = \"text-align: right;\">15742.5</td></tr><tr><td class = \"rowNumber\" style = \"font-weight: bold; text-align: right;\">4</td><td style = \"text-align: right;\">2021</td><td style = \"text-align: right;\">17840.9</td></tr></tbody></table></div>"
      ]
     },
     "metadata": {},
     "output_type": "display_data"
    }
   ],
   "source": [
    "show(stdout, MIME(\"text/html\"), df, header=labels(df), top_left_str=caption(df))"
   ]
  },
  {
   "cell_type": "markdown",
   "id": "b46a9b42",
   "metadata": {},
   "source": [
    "Now customize a plot:"
   ]
  },
  {
   "cell_type": "code",
   "execution_count": 37,
   "id": "075e553e",
   "metadata": {},
   "outputs": [
    {
     "data": {
      "image/svg+xml": [
       "<?xml version=\"1.0\" encoding=\"utf-8\"?>\n",
       "<svg xmlns=\"http://www.w3.org/2000/svg\" xmlns:xlink=\"http://www.w3.org/1999/xlink\" width=\"600\" height=\"400\" viewBox=\"0 0 2400 1600\">\n",
       "<defs>\n",
       "  <clipPath id=\"clip980\">\n",
       "    <rect x=\"0\" y=\"0\" width=\"2400\" height=\"1600\"/>\n",
       "  </clipPath>\n",
       "</defs>\n",
       "<path clip-path=\"url(#clip980)\" d=\"\n",
       "M0 1600 L2400 1600 L2400 0 L0 0  Z\n",
       "  \" fill=\"#ffffff\" fill-rule=\"evenodd\" fill-opacity=\"1\"/>\n",
       "<defs>\n",
       "  <clipPath id=\"clip981\">\n",
       "    <rect x=\"480\" y=\"0\" width=\"1681\" height=\"1600\"/>\n",
       "  </clipPath>\n",
       "</defs>\n",
       "<path clip-path=\"url(#clip980)\" d=\"\n",
       "M292.713 1423.18 L2352.76 1423.18 L2352.76 123.472 L292.713 123.472  Z\n",
       "  \" fill=\"#ffffff\" fill-rule=\"evenodd\" fill-opacity=\"1\"/>\n",
       "<defs>\n",
       "  <clipPath id=\"clip982\">\n",
       "    <rect x=\"292\" y=\"123\" width=\"2061\" height=\"1301\"/>\n",
       "  </clipPath>\n",
       "</defs>\n",
       "<polyline clip-path=\"url(#clip982)\" style=\"stroke:#000000; stroke-linecap:round; stroke-linejoin:round; stroke-width:2; stroke-opacity:0.1; fill:none\" points=\"\n",
       "  351.016,1423.18 351.016,123.472 \n",
       "  \"/>\n",
       "<polyline clip-path=\"url(#clip982)\" style=\"stroke:#000000; stroke-linecap:round; stroke-linejoin:round; stroke-width:2; stroke-opacity:0.1; fill:none\" points=\"\n",
       "  998.828,1423.18 998.828,123.472 \n",
       "  \"/>\n",
       "<polyline clip-path=\"url(#clip982)\" style=\"stroke:#000000; stroke-linecap:round; stroke-linejoin:round; stroke-width:2; stroke-opacity:0.1; fill:none\" points=\"\n",
       "  1646.64,1423.18 1646.64,123.472 \n",
       "  \"/>\n",
       "<polyline clip-path=\"url(#clip982)\" style=\"stroke:#000000; stroke-linecap:round; stroke-linejoin:round; stroke-width:2; stroke-opacity:0.1; fill:none\" points=\"\n",
       "  2294.45,1423.18 2294.45,123.472 \n",
       "  \"/>\n",
       "<polyline clip-path=\"url(#clip980)\" style=\"stroke:#000000; stroke-linecap:round; stroke-linejoin:round; stroke-width:4; stroke-opacity:1; fill:none\" points=\"\n",
       "  292.713,1423.18 2352.76,1423.18 \n",
       "  \"/>\n",
       "<polyline clip-path=\"url(#clip980)\" style=\"stroke:#000000; stroke-linecap:round; stroke-linejoin:round; stroke-width:4; stroke-opacity:1; fill:none\" points=\"\n",
       "  351.016,1423.18 351.016,1404.28 \n",
       "  \"/>\n",
       "<polyline clip-path=\"url(#clip980)\" style=\"stroke:#000000; stroke-linecap:round; stroke-linejoin:round; stroke-width:4; stroke-opacity:1; fill:none\" points=\"\n",
       "  998.828,1423.18 998.828,1404.28 \n",
       "  \"/>\n",
       "<polyline clip-path=\"url(#clip980)\" style=\"stroke:#000000; stroke-linecap:round; stroke-linejoin:round; stroke-width:4; stroke-opacity:1; fill:none\" points=\"\n",
       "  1646.64,1423.18 1646.64,1404.28 \n",
       "  \"/>\n",
       "<polyline clip-path=\"url(#clip980)\" style=\"stroke:#000000; stroke-linecap:round; stroke-linejoin:round; stroke-width:4; stroke-opacity:1; fill:none\" points=\"\n",
       "  2294.45,1423.18 2294.45,1404.28 \n",
       "  \"/>\n",
       "<path clip-path=\"url(#clip980)\" d=\"M299.674 1481.64 L315.993 1481.64 L315.993 1485.58 L294.049 1485.58 L294.049 1481.64 Q296.711 1478.89 301.294 1474.26 Q305.901 1469.61 307.081 1468.27 Q309.327 1465.74 310.206 1464.01 Q311.109 1462.25 311.109 1460.56 Q311.109 1457.8 309.165 1456.07 Q307.243 1454.33 304.141 1454.33 Q301.942 1454.33 299.489 1455.09 Q297.058 1455.86 294.28 1457.41 L294.28 1452.69 Q297.104 1451.55 299.558 1450.97 Q302.012 1450.39 304.049 1450.39 Q309.419 1450.39 312.614 1453.08 Q315.808 1455.77 315.808 1460.26 Q315.808 1462.39 314.998 1464.31 Q314.211 1466.2 312.104 1468.8 Q311.526 1469.47 308.424 1472.69 Q305.322 1475.88 299.674 1481.64 Z\" fill=\"#000000\" fill-rule=\"evenodd\" fill-opacity=\"1\" /><path clip-path=\"url(#clip980)\" d=\"M335.808 1454.1 Q332.197 1454.1 330.368 1457.66 Q328.563 1461.2 328.563 1468.33 Q328.563 1475.44 330.368 1479.01 Q332.197 1482.55 335.808 1482.55 Q339.442 1482.55 341.248 1479.01 Q343.076 1475.44 343.076 1468.33 Q343.076 1461.2 341.248 1457.66 Q339.442 1454.1 335.808 1454.1 M335.808 1450.39 Q341.618 1450.39 344.674 1455 Q347.752 1459.58 347.752 1468.33 Q347.752 1477.06 344.674 1481.67 Q341.618 1486.25 335.808 1486.25 Q329.998 1486.25 326.919 1481.67 Q323.864 1477.06 323.864 1468.33 Q323.864 1459.58 326.919 1455 Q329.998 1450.39 335.808 1450.39 Z\" fill=\"#000000\" fill-rule=\"evenodd\" fill-opacity=\"1\" /><path clip-path=\"url(#clip980)\" d=\"M356.78 1481.64 L364.419 1481.64 L364.419 1455.28 L356.109 1456.95 L356.109 1452.69 L364.373 1451.02 L369.049 1451.02 L369.049 1481.64 L376.687 1481.64 L376.687 1485.58 L356.78 1485.58 L356.78 1481.64 Z\" fill=\"#000000\" fill-rule=\"evenodd\" fill-opacity=\"1\" /><path clip-path=\"url(#clip980)\" d=\"M396.132 1469.17 Q392.798 1469.17 390.877 1470.95 Q388.979 1472.73 388.979 1475.86 Q388.979 1478.98 390.877 1480.77 Q392.798 1482.55 396.132 1482.55 Q399.465 1482.55 401.386 1480.77 Q403.308 1478.96 403.308 1475.86 Q403.308 1472.73 401.386 1470.95 Q399.488 1469.17 396.132 1469.17 M391.456 1467.18 Q388.447 1466.44 386.757 1464.38 Q385.09 1462.32 385.09 1459.35 Q385.09 1455.21 388.03 1452.8 Q390.993 1450.39 396.132 1450.39 Q401.294 1450.39 404.234 1452.8 Q407.173 1455.21 407.173 1459.35 Q407.173 1462.32 405.483 1464.38 Q403.817 1466.44 400.831 1467.18 Q404.21 1467.96 406.085 1470.26 Q407.983 1472.55 407.983 1475.86 Q407.983 1480.88 404.905 1483.57 Q401.849 1486.25 396.132 1486.25 Q390.414 1486.25 387.335 1483.57 Q384.28 1480.88 384.28 1475.86 Q384.28 1472.55 386.178 1470.26 Q388.076 1467.96 391.456 1467.18 M389.743 1459.79 Q389.743 1462.48 391.409 1463.98 Q393.099 1465.49 396.132 1465.49 Q399.141 1465.49 400.831 1463.98 Q402.544 1462.48 402.544 1459.79 Q402.544 1457.11 400.831 1455.6 Q399.141 1454.1 396.132 1454.1 Q393.099 1454.1 391.409 1455.6 Q389.743 1457.11 389.743 1459.79 Z\" fill=\"#000000\" fill-rule=\"evenodd\" fill-opacity=\"1\" /><path clip-path=\"url(#clip980)\" d=\"M947.532 1481.64 L963.852 1481.64 L963.852 1485.58 L941.907 1485.58 L941.907 1481.64 Q944.569 1478.89 949.153 1474.26 Q953.759 1469.61 954.94 1468.27 Q957.185 1465.74 958.065 1464.01 Q958.968 1462.25 958.968 1460.56 Q958.968 1457.8 957.023 1456.07 Q955.102 1454.33 952 1454.33 Q949.801 1454.33 947.347 1455.09 Q944.917 1455.86 942.139 1457.41 L942.139 1452.69 Q944.963 1451.55 947.417 1450.97 Q949.87 1450.39 951.907 1450.39 Q957.278 1450.39 960.472 1453.08 Q963.667 1455.77 963.667 1460.26 Q963.667 1462.39 962.856 1464.31 Q962.069 1466.2 959.963 1468.8 Q959.384 1469.47 956.282 1472.69 Q953.18 1475.88 947.532 1481.64 Z\" fill=\"#000000\" fill-rule=\"evenodd\" fill-opacity=\"1\" /><path clip-path=\"url(#clip980)\" d=\"M983.666 1454.1 Q980.055 1454.1 978.227 1457.66 Q976.421 1461.2 976.421 1468.33 Q976.421 1475.44 978.227 1479.01 Q980.055 1482.55 983.666 1482.55 Q987.301 1482.55 989.106 1479.01 Q990.935 1475.44 990.935 1468.33 Q990.935 1461.2 989.106 1457.66 Q987.301 1454.1 983.666 1454.1 M983.666 1450.39 Q989.477 1450.39 992.532 1455 Q995.611 1459.58 995.611 1468.33 Q995.611 1477.06 992.532 1481.67 Q989.477 1486.25 983.666 1486.25 Q977.856 1486.25 974.778 1481.67 Q971.722 1477.06 971.722 1468.33 Q971.722 1459.58 974.778 1455 Q977.856 1450.39 983.666 1450.39 Z\" fill=\"#000000\" fill-rule=\"evenodd\" fill-opacity=\"1\" /><path clip-path=\"url(#clip980)\" d=\"M1004.64 1481.64 L1012.28 1481.64 L1012.28 1455.28 L1003.97 1456.95 L1003.97 1452.69 L1012.23 1451.02 L1016.91 1451.02 L1016.91 1481.64 L1024.55 1481.64 L1024.55 1485.58 L1004.64 1485.58 L1004.64 1481.64 Z\" fill=\"#000000\" fill-rule=\"evenodd\" fill-opacity=\"1\" /><path clip-path=\"url(#clip980)\" d=\"M1034.13 1484.86 L1034.13 1480.6 Q1035.89 1481.44 1037.69 1481.88 Q1039.5 1482.32 1041.24 1482.32 Q1045.87 1482.32 1048.3 1479.21 Q1050.75 1476.09 1051.1 1469.75 Q1049.75 1471.74 1047.69 1472.8 Q1045.63 1473.87 1043.13 1473.87 Q1037.95 1473.87 1034.92 1470.74 Q1031.91 1467.59 1031.91 1462.15 Q1031.91 1456.83 1035.06 1453.61 Q1038.2 1450.39 1043.43 1450.39 Q1049.43 1450.39 1052.58 1455 Q1055.75 1459.58 1055.75 1468.33 Q1055.75 1476.51 1051.86 1481.39 Q1047.99 1486.25 1041.44 1486.25 Q1039.68 1486.25 1037.88 1485.9 Q1036.07 1485.56 1034.13 1484.86 M1043.43 1470.21 Q1046.58 1470.21 1048.41 1468.06 Q1050.26 1465.9 1050.26 1462.15 Q1050.26 1458.43 1048.41 1456.27 Q1046.58 1454.1 1043.43 1454.1 Q1040.29 1454.1 1038.43 1456.27 Q1036.61 1458.43 1036.61 1462.15 Q1036.61 1465.9 1038.43 1468.06 Q1040.29 1470.21 1043.43 1470.21 Z\" fill=\"#000000\" fill-rule=\"evenodd\" fill-opacity=\"1\" /><path clip-path=\"url(#clip980)\" d=\"M1595.25 1481.64 L1611.57 1481.64 L1611.57 1485.58 L1589.63 1485.58 L1589.63 1481.64 Q1592.29 1478.89 1596.87 1474.26 Q1601.48 1469.61 1602.66 1468.27 Q1604.9 1465.74 1605.78 1464.01 Q1606.69 1462.25 1606.69 1460.56 Q1606.69 1457.8 1604.74 1456.07 Q1602.82 1454.33 1599.72 1454.33 Q1597.52 1454.33 1595.07 1455.09 Q1592.64 1455.86 1589.86 1457.41 L1589.86 1452.69 Q1592.68 1451.55 1595.14 1450.97 Q1597.59 1450.39 1599.63 1450.39 Q1605 1450.39 1608.19 1453.08 Q1611.39 1455.77 1611.39 1460.26 Q1611.39 1462.39 1610.58 1464.31 Q1609.79 1466.2 1607.68 1468.8 Q1607.1 1469.47 1604 1472.69 Q1600.9 1475.88 1595.25 1481.64 Z\" fill=\"#000000\" fill-rule=\"evenodd\" fill-opacity=\"1\" /><path clip-path=\"url(#clip980)\" d=\"M1631.39 1454.1 Q1627.77 1454.1 1625.95 1457.66 Q1624.14 1461.2 1624.14 1468.33 Q1624.14 1475.44 1625.95 1479.01 Q1627.77 1482.55 1631.39 1482.55 Q1635.02 1482.55 1636.83 1479.01 Q1638.65 1475.44 1638.65 1468.33 Q1638.65 1461.2 1636.83 1457.66 Q1635.02 1454.1 1631.39 1454.1 M1631.39 1450.39 Q1637.2 1450.39 1640.25 1455 Q1643.33 1459.58 1643.33 1468.33 Q1643.33 1477.06 1640.25 1481.67 Q1637.2 1486.25 1631.39 1486.25 Q1625.58 1486.25 1622.5 1481.67 Q1619.44 1477.06 1619.44 1468.33 Q1619.44 1459.58 1622.5 1455 Q1625.58 1450.39 1631.39 1450.39 Z\" fill=\"#000000\" fill-rule=\"evenodd\" fill-opacity=\"1\" /><path clip-path=\"url(#clip980)\" d=\"M1655.58 1481.64 L1671.9 1481.64 L1671.9 1485.58 L1649.95 1485.58 L1649.95 1481.64 Q1652.61 1478.89 1657.2 1474.26 Q1661.8 1469.61 1662.98 1468.27 Q1665.23 1465.74 1666.11 1464.01 Q1667.01 1462.25 1667.01 1460.56 Q1667.01 1457.8 1665.07 1456.07 Q1663.15 1454.33 1660.04 1454.33 Q1657.84 1454.33 1655.39 1455.09 Q1652.96 1455.86 1650.18 1457.41 L1650.18 1452.69 Q1653.01 1451.55 1655.46 1450.97 Q1657.91 1450.39 1659.95 1450.39 Q1665.32 1450.39 1668.52 1453.08 Q1671.71 1455.77 1671.71 1460.26 Q1671.71 1462.39 1670.9 1464.31 Q1670.11 1466.2 1668.01 1468.8 Q1667.43 1469.47 1664.33 1472.69 Q1661.22 1475.88 1655.58 1481.64 Z\" fill=\"#000000\" fill-rule=\"evenodd\" fill-opacity=\"1\" /><path clip-path=\"url(#clip980)\" d=\"M1691.71 1454.1 Q1688.1 1454.1 1686.27 1457.66 Q1684.46 1461.2 1684.46 1468.33 Q1684.46 1475.44 1686.27 1479.01 Q1688.1 1482.55 1691.71 1482.55 Q1695.34 1482.55 1697.15 1479.01 Q1698.98 1475.44 1698.98 1468.33 Q1698.98 1461.2 1697.15 1457.66 Q1695.34 1454.1 1691.71 1454.1 M1691.71 1450.39 Q1697.52 1450.39 1700.58 1455 Q1703.65 1459.58 1703.65 1468.33 Q1703.65 1477.06 1700.58 1481.67 Q1697.52 1486.25 1691.71 1486.25 Q1685.9 1486.25 1682.82 1481.67 Q1679.77 1477.06 1679.77 1468.33 Q1679.77 1459.58 1682.82 1455 Q1685.9 1450.39 1691.71 1450.39 Z\" fill=\"#000000\" fill-rule=\"evenodd\" fill-opacity=\"1\" /><path clip-path=\"url(#clip980)\" d=\"M2243.68 1481.64 L2260 1481.64 L2260 1485.58 L2238.05 1485.58 L2238.05 1481.64 Q2240.71 1478.89 2245.3 1474.26 Q2249.9 1469.61 2251.08 1468.27 Q2253.33 1465.74 2254.21 1464.01 Q2255.11 1462.25 2255.11 1460.56 Q2255.11 1457.8 2253.17 1456.07 Q2251.25 1454.33 2248.15 1454.33 Q2245.95 1454.33 2243.49 1455.09 Q2241.06 1455.86 2238.28 1457.41 L2238.28 1452.69 Q2241.11 1451.55 2243.56 1450.97 Q2246.02 1450.39 2248.05 1450.39 Q2253.42 1450.39 2256.62 1453.08 Q2259.81 1455.77 2259.81 1460.26 Q2259.81 1462.39 2259 1464.31 Q2258.21 1466.2 2256.11 1468.8 Q2255.53 1469.47 2252.43 1472.69 Q2249.33 1475.88 2243.68 1481.64 Z\" fill=\"#000000\" fill-rule=\"evenodd\" fill-opacity=\"1\" /><path clip-path=\"url(#clip980)\" d=\"M2279.81 1454.1 Q2276.2 1454.1 2274.37 1457.66 Q2272.57 1461.2 2272.57 1468.33 Q2272.57 1475.44 2274.37 1479.01 Q2276.2 1482.55 2279.81 1482.55 Q2283.45 1482.55 2285.25 1479.01 Q2287.08 1475.44 2287.08 1468.33 Q2287.08 1461.2 2285.25 1457.66 Q2283.45 1454.1 2279.81 1454.1 M2279.81 1450.39 Q2285.62 1450.39 2288.68 1455 Q2291.76 1459.58 2291.76 1468.33 Q2291.76 1477.06 2288.68 1481.67 Q2285.62 1486.25 2279.81 1486.25 Q2274 1486.25 2270.92 1481.67 Q2267.87 1477.06 2267.87 1468.33 Q2267.87 1459.58 2270.92 1455 Q2274 1450.39 2279.81 1450.39 Z\" fill=\"#000000\" fill-rule=\"evenodd\" fill-opacity=\"1\" /><path clip-path=\"url(#clip980)\" d=\"M2304 1481.64 L2320.32 1481.64 L2320.32 1485.58 L2298.38 1485.58 L2298.38 1481.64 Q2301.04 1478.89 2305.62 1474.26 Q2310.23 1469.61 2311.41 1468.27 Q2313.65 1465.74 2314.53 1464.01 Q2315.44 1462.25 2315.44 1460.56 Q2315.44 1457.8 2313.49 1456.07 Q2311.57 1454.33 2308.47 1454.33 Q2306.27 1454.33 2303.82 1455.09 Q2301.39 1455.86 2298.61 1457.41 L2298.61 1452.69 Q2301.43 1451.55 2303.89 1450.97 Q2306.34 1450.39 2308.38 1450.39 Q2313.75 1450.39 2316.94 1453.08 Q2320.14 1455.77 2320.14 1460.26 Q2320.14 1462.39 2319.33 1464.31 Q2318.54 1466.2 2316.43 1468.8 Q2315.85 1469.47 2312.75 1472.69 Q2309.65 1475.88 2304 1481.64 Z\" fill=\"#000000\" fill-rule=\"evenodd\" fill-opacity=\"1\" /><path clip-path=\"url(#clip980)\" d=\"M2330.95 1481.64 L2338.58 1481.64 L2338.58 1455.28 L2330.27 1456.95 L2330.27 1452.69 L2338.54 1451.02 L2343.21 1451.02 L2343.21 1481.64 L2350.85 1481.64 L2350.85 1485.58 L2330.95 1485.58 L2330.95 1481.64 Z\" fill=\"#000000\" fill-rule=\"evenodd\" fill-opacity=\"1\" /><path clip-path=\"url(#clip980)\" d=\"M1270.03 1571.35 Q1267.54 1577.72 1265.19 1579.66 Q1262.83 1581.6 1258.89 1581.6 L1254.21 1581.6 L1254.21 1576.7 L1257.65 1576.7 Q1260.06 1576.7 1261.4 1575.56 Q1262.74 1574.41 1264.36 1570.14 L1265.41 1567.47 L1250.99 1532.4 L1257.2 1532.4 L1268.34 1560.28 L1279.48 1532.4 L1285.69 1532.4 L1270.03 1571.35 Z\" fill=\"#000000\" fill-rule=\"evenodd\" fill-opacity=\"1\" /><path clip-path=\"url(#clip980)\" d=\"M1324.26 1548.76 L1324.26 1551.62 L1297.34 1551.62 Q1297.72 1557.67 1300.96 1560.85 Q1304.24 1564 1310.07 1564 Q1313.44 1564 1316.59 1563.17 Q1319.77 1562.35 1322.89 1560.69 L1322.89 1566.23 Q1319.74 1567.57 1316.43 1568.27 Q1313.12 1568.97 1309.72 1568.97 Q1301.19 1568.97 1296.19 1564 Q1291.22 1559.04 1291.22 1550.57 Q1291.22 1541.82 1295.93 1536.69 Q1300.68 1531.54 1308.7 1531.54 Q1315.89 1531.54 1320.06 1536.18 Q1324.26 1540.8 1324.26 1548.76 M1318.41 1547.04 Q1318.34 1542.23 1315.7 1539.37 Q1313.09 1536.5 1308.76 1536.5 Q1303.86 1536.5 1300.9 1539.27 Q1297.97 1542.04 1297.53 1547.07 L1318.41 1547.04 Z\" fill=\"#000000\" fill-rule=\"evenodd\" fill-opacity=\"1\" /><path clip-path=\"url(#clip980)\" d=\"M1350.08 1550.12 Q1342.98 1550.12 1340.24 1551.75 Q1337.5 1553.37 1337.5 1557.29 Q1337.5 1560.4 1339.54 1562.25 Q1341.61 1564.07 1345.14 1564.07 Q1350.01 1564.07 1352.94 1560.63 Q1355.9 1557.16 1355.9 1551.43 L1355.9 1550.12 L1350.08 1550.12 M1361.76 1547.71 L1361.76 1568.04 L1355.9 1568.04 L1355.9 1562.63 Q1353.89 1565.88 1350.9 1567.44 Q1347.91 1568.97 1343.58 1568.97 Q1338.11 1568.97 1334.86 1565.91 Q1331.65 1562.82 1331.65 1557.67 Q1331.65 1551.65 1335.66 1548.6 Q1339.7 1545.54 1347.69 1545.54 L1355.9 1545.54 L1355.9 1544.97 Q1355.9 1540.93 1353.23 1538.73 Q1350.58 1536.5 1345.78 1536.5 Q1342.72 1536.5 1339.83 1537.23 Q1336.93 1537.97 1334.26 1539.43 L1334.26 1534.02 Q1337.47 1532.78 1340.49 1532.17 Q1343.52 1531.54 1346.38 1531.54 Q1354.12 1531.54 1357.94 1535.55 Q1361.76 1539.56 1361.76 1547.71 Z\" fill=\"#000000\" fill-rule=\"evenodd\" fill-opacity=\"1\" /><path clip-path=\"url(#clip980)\" d=\"M1394.48 1537.87 Q1393.49 1537.3 1392.31 1537.04 Q1391.17 1536.76 1389.77 1536.76 Q1384.8 1536.76 1382.13 1540 Q1379.48 1543.22 1379.48 1549.27 L1379.48 1568.04 L1373.6 1568.04 L1373.6 1532.4 L1379.48 1532.4 L1379.48 1537.93 Q1381.33 1534.69 1384.29 1533.13 Q1387.25 1531.54 1391.48 1531.54 Q1392.09 1531.54 1392.82 1531.63 Q1393.55 1531.7 1394.44 1531.85 L1394.48 1537.87 Z\" fill=\"#000000\" fill-rule=\"evenodd\" fill-opacity=\"1\" /><polyline clip-path=\"url(#clip982)\" style=\"stroke:#000000; stroke-linecap:round; stroke-linejoin:round; stroke-width:2; stroke-opacity:0.1; fill:none\" points=\"\n",
       "  292.713,1370.11 2352.76,1370.11 \n",
       "  \"/>\n",
       "<polyline clip-path=\"url(#clip982)\" style=\"stroke:#000000; stroke-linecap:round; stroke-linejoin:round; stroke-width:2; stroke-opacity:0.1; fill:none\" points=\"\n",
       "  292.713,1111.69 2352.76,1111.69 \n",
       "  \"/>\n",
       "<polyline clip-path=\"url(#clip982)\" style=\"stroke:#000000; stroke-linecap:round; stroke-linejoin:round; stroke-width:2; stroke-opacity:0.1; fill:none\" points=\"\n",
       "  292.713,853.28 2352.76,853.28 \n",
       "  \"/>\n",
       "<polyline clip-path=\"url(#clip982)\" style=\"stroke:#000000; stroke-linecap:round; stroke-linejoin:round; stroke-width:2; stroke-opacity:0.1; fill:none\" points=\"\n",
       "  292.713,594.867 2352.76,594.867 \n",
       "  \"/>\n",
       "<polyline clip-path=\"url(#clip982)\" style=\"stroke:#000000; stroke-linecap:round; stroke-linejoin:round; stroke-width:2; stroke-opacity:0.1; fill:none\" points=\"\n",
       "  292.713,336.453 2352.76,336.453 \n",
       "  \"/>\n",
       "<polyline clip-path=\"url(#clip980)\" style=\"stroke:#000000; stroke-linecap:round; stroke-linejoin:round; stroke-width:4; stroke-opacity:1; fill:none\" points=\"\n",
       "  292.713,1423.18 292.713,123.472 \n",
       "  \"/>\n",
       "<polyline clip-path=\"url(#clip980)\" style=\"stroke:#000000; stroke-linecap:round; stroke-linejoin:round; stroke-width:4; stroke-opacity:1; fill:none\" points=\"\n",
       "  292.713,1370.11 311.611,1370.11 \n",
       "  \"/>\n",
       "<polyline clip-path=\"url(#clip980)\" style=\"stroke:#000000; stroke-linecap:round; stroke-linejoin:round; stroke-width:4; stroke-opacity:1; fill:none\" points=\"\n",
       "  292.713,1111.69 311.611,1111.69 \n",
       "  \"/>\n",
       "<polyline clip-path=\"url(#clip980)\" style=\"stroke:#000000; stroke-linecap:round; stroke-linejoin:round; stroke-width:4; stroke-opacity:1; fill:none\" points=\"\n",
       "  292.713,853.28 311.611,853.28 \n",
       "  \"/>\n",
       "<polyline clip-path=\"url(#clip980)\" style=\"stroke:#000000; stroke-linecap:round; stroke-linejoin:round; stroke-width:4; stroke-opacity:1; fill:none\" points=\"\n",
       "  292.713,594.867 311.611,594.867 \n",
       "  \"/>\n",
       "<polyline clip-path=\"url(#clip980)\" style=\"stroke:#000000; stroke-linecap:round; stroke-linejoin:round; stroke-width:4; stroke-opacity:1; fill:none\" points=\"\n",
       "  292.713,336.453 311.611,336.453 \n",
       "  \"/>\n",
       "<path clip-path=\"url(#clip980)\" d=\"M114.931 1383.45 L122.57 1383.45 L122.57 1357.09 L114.26 1358.75 L114.26 1354.49 L122.524 1352.83 L127.2 1352.83 L127.2 1383.45 L134.839 1383.45 L134.839 1387.39 L114.931 1387.39 L114.931 1383.45 Z\" fill=\"#000000\" fill-rule=\"evenodd\" fill-opacity=\"1\" /><path clip-path=\"url(#clip980)\" d=\"M144.329 1352.83 L162.686 1352.83 L162.686 1356.76 L148.612 1356.76 L148.612 1365.23 Q149.63 1364.89 150.649 1364.72 Q151.667 1364.54 152.686 1364.54 Q158.473 1364.54 161.852 1367.71 Q165.232 1370.88 165.232 1376.3 Q165.232 1381.88 161.76 1384.98 Q158.288 1388.06 151.968 1388.06 Q149.792 1388.06 147.524 1387.69 Q145.279 1387.32 142.871 1386.58 L142.871 1381.88 Q144.954 1383.01 147.177 1383.57 Q149.399 1384.12 151.876 1384.12 Q155.88 1384.12 158.218 1382.02 Q160.556 1379.91 160.556 1376.3 Q160.556 1372.69 158.218 1370.58 Q155.88 1368.47 151.876 1368.47 Q150.001 1368.47 148.126 1368.89 Q146.274 1369.31 144.329 1370.19 L144.329 1352.83 Z\" fill=\"#000000\" fill-rule=\"evenodd\" fill-opacity=\"1\" /><path clip-path=\"url(#clip980)\" d=\"M174.491 1352.83 L192.848 1352.83 L192.848 1356.76 L178.774 1356.76 L178.774 1365.23 Q179.792 1364.89 180.811 1364.72 Q181.829 1364.54 182.848 1364.54 Q188.635 1364.54 192.014 1367.71 Q195.394 1370.88 195.394 1376.3 Q195.394 1381.88 191.922 1384.98 Q188.45 1388.06 182.13 1388.06 Q179.954 1388.06 177.686 1387.69 Q175.44 1387.32 173.033 1386.58 L173.033 1381.88 Q175.116 1383.01 177.339 1383.57 Q179.561 1384.12 182.038 1384.12 Q186.042 1384.12 188.38 1382.02 Q190.718 1379.91 190.718 1376.3 Q190.718 1372.69 188.38 1370.58 Q186.042 1368.47 182.038 1368.47 Q180.163 1368.47 178.288 1368.89 Q176.436 1369.31 174.491 1370.19 L174.491 1352.83 Z\" fill=\"#000000\" fill-rule=\"evenodd\" fill-opacity=\"1\" /><path clip-path=\"url(#clip980)\" d=\"M214.607 1355.91 Q210.996 1355.91 209.167 1359.47 Q207.362 1363.01 207.362 1370.14 Q207.362 1377.25 209.167 1380.81 Q210.996 1384.35 214.607 1384.35 Q218.241 1384.35 220.047 1380.81 Q221.875 1377.25 221.875 1370.14 Q221.875 1363.01 220.047 1359.47 Q218.241 1355.91 214.607 1355.91 M214.607 1352.2 Q220.417 1352.2 223.473 1356.81 Q226.551 1361.39 226.551 1370.14 Q226.551 1378.87 223.473 1383.47 Q220.417 1388.06 214.607 1388.06 Q208.797 1388.06 205.718 1383.47 Q202.662 1378.87 202.662 1370.14 Q202.662 1361.39 205.718 1356.81 Q208.797 1352.2 214.607 1352.2 Z\" fill=\"#000000\" fill-rule=\"evenodd\" fill-opacity=\"1\" /><path clip-path=\"url(#clip980)\" d=\"M244.769 1355.91 Q241.158 1355.91 239.329 1359.47 Q237.523 1363.01 237.523 1370.14 Q237.523 1377.25 239.329 1380.81 Q241.158 1384.35 244.769 1384.35 Q248.403 1384.35 250.209 1380.81 Q252.037 1377.25 252.037 1370.14 Q252.037 1363.01 250.209 1359.47 Q248.403 1355.91 244.769 1355.91 M244.769 1352.2 Q250.579 1352.2 253.634 1356.81 Q256.713 1361.39 256.713 1370.14 Q256.713 1378.87 253.634 1383.47 Q250.579 1388.06 244.769 1388.06 Q238.959 1388.06 235.88 1383.47 Q232.824 1378.87 232.824 1370.14 Q232.824 1361.39 235.88 1356.81 Q238.959 1352.2 244.769 1352.2 Z\" fill=\"#000000\" fill-rule=\"evenodd\" fill-opacity=\"1\" /><path clip-path=\"url(#clip980)\" d=\"M114.931 1125.04 L122.57 1125.04 L122.57 1098.67 L114.26 1100.34 L114.26 1096.08 L122.524 1094.41 L127.2 1094.41 L127.2 1125.04 L134.839 1125.04 L134.839 1128.97 L114.931 1128.97 L114.931 1125.04 Z\" fill=\"#000000\" fill-rule=\"evenodd\" fill-opacity=\"1\" /><path clip-path=\"url(#clip980)\" d=\"M154.862 1109.83 Q151.714 1109.83 149.862 1111.98 Q148.033 1114.14 148.033 1117.89 Q148.033 1121.61 149.862 1123.79 Q151.714 1125.94 154.862 1125.94 Q158.01 1125.94 159.839 1123.79 Q161.69 1121.61 161.69 1117.89 Q161.69 1114.14 159.839 1111.98 Q158.01 1109.83 154.862 1109.83 M164.144 1095.18 L164.144 1099.44 Q162.385 1098.6 160.579 1098.16 Q158.797 1097.72 157.038 1097.72 Q152.408 1097.72 149.954 1100.85 Q147.524 1103.97 147.177 1110.29 Q148.542 1108.28 150.603 1107.21 Q152.663 1106.13 155.14 1106.13 Q160.348 1106.13 163.357 1109.3 Q166.39 1112.45 166.39 1117.89 Q166.39 1123.21 163.241 1126.43 Q160.093 1129.64 154.862 1129.64 Q148.866 1129.64 145.695 1125.06 Q142.524 1120.45 142.524 1111.73 Q142.524 1103.53 146.413 1098.67 Q150.302 1093.79 156.853 1093.79 Q158.612 1093.79 160.394 1094.14 Q162.2 1094.48 164.144 1095.18 Z\" fill=\"#000000\" fill-rule=\"evenodd\" fill-opacity=\"1\" /><path clip-path=\"url(#clip980)\" d=\"M184.445 1097.49 Q180.834 1097.49 179.005 1101.06 Q177.2 1104.6 177.2 1111.73 Q177.2 1118.83 179.005 1122.4 Q180.834 1125.94 184.445 1125.94 Q188.079 1125.94 189.885 1122.4 Q191.713 1118.83 191.713 1111.73 Q191.713 1104.6 189.885 1101.06 Q188.079 1097.49 184.445 1097.49 M184.445 1093.79 Q190.255 1093.79 193.311 1098.39 Q196.389 1102.98 196.389 1111.73 Q196.389 1120.45 193.311 1125.06 Q190.255 1129.64 184.445 1129.64 Q178.635 1129.64 175.556 1125.06 Q172.501 1120.45 172.501 1111.73 Q172.501 1102.98 175.556 1098.39 Q178.635 1093.79 184.445 1093.79 Z\" fill=\"#000000\" fill-rule=\"evenodd\" fill-opacity=\"1\" /><path clip-path=\"url(#clip980)\" d=\"M214.607 1097.49 Q210.996 1097.49 209.167 1101.06 Q207.362 1104.6 207.362 1111.73 Q207.362 1118.83 209.167 1122.4 Q210.996 1125.94 214.607 1125.94 Q218.241 1125.94 220.047 1122.4 Q221.875 1118.83 221.875 1111.73 Q221.875 1104.6 220.047 1101.06 Q218.241 1097.49 214.607 1097.49 M214.607 1093.79 Q220.417 1093.79 223.473 1098.39 Q226.551 1102.98 226.551 1111.73 Q226.551 1120.45 223.473 1125.06 Q220.417 1129.64 214.607 1129.64 Q208.797 1129.64 205.718 1125.06 Q202.662 1120.45 202.662 1111.73 Q202.662 1102.98 205.718 1098.39 Q208.797 1093.79 214.607 1093.79 Z\" fill=\"#000000\" fill-rule=\"evenodd\" fill-opacity=\"1\" /><path clip-path=\"url(#clip980)\" d=\"M244.769 1097.49 Q241.158 1097.49 239.329 1101.06 Q237.523 1104.6 237.523 1111.73 Q237.523 1118.83 239.329 1122.4 Q241.158 1125.94 244.769 1125.94 Q248.403 1125.94 250.209 1122.4 Q252.037 1118.83 252.037 1111.73 Q252.037 1104.6 250.209 1101.06 Q248.403 1097.49 244.769 1097.49 M244.769 1093.79 Q250.579 1093.79 253.634 1098.39 Q256.713 1102.98 256.713 1111.73 Q256.713 1120.45 253.634 1125.06 Q250.579 1129.64 244.769 1129.64 Q238.959 1129.64 235.88 1125.06 Q232.824 1120.45 232.824 1111.73 Q232.824 1102.98 235.88 1098.39 Q238.959 1093.79 244.769 1093.79 Z\" fill=\"#000000\" fill-rule=\"evenodd\" fill-opacity=\"1\" /><path clip-path=\"url(#clip980)\" d=\"M114.931 866.625 L122.57 866.625 L122.57 840.259 L114.26 841.926 L114.26 837.667 L122.524 836 L127.2 836 L127.2 866.625 L134.839 866.625 L134.839 870.56 L114.931 870.56 L114.931 866.625 Z\" fill=\"#000000\" fill-rule=\"evenodd\" fill-opacity=\"1\" /><path clip-path=\"url(#clip980)\" d=\"M154.862 851.416 Q151.714 851.416 149.862 853.569 Q148.033 855.722 148.033 859.472 Q148.033 863.199 149.862 865.375 Q151.714 867.528 154.862 867.528 Q158.01 867.528 159.839 865.375 Q161.69 863.199 161.69 859.472 Q161.69 855.722 159.839 853.569 Q158.01 851.416 154.862 851.416 M164.144 836.764 L164.144 841.023 Q162.385 840.19 160.579 839.75 Q158.797 839.31 157.038 839.31 Q152.408 839.31 149.954 842.435 Q147.524 845.56 147.177 851.879 Q148.542 849.866 150.603 848.801 Q152.663 847.713 155.14 847.713 Q160.348 847.713 163.357 850.884 Q166.39 854.032 166.39 859.472 Q166.39 864.796 163.241 868.014 Q160.093 871.231 154.862 871.231 Q148.866 871.231 145.695 866.648 Q142.524 862.041 142.524 853.315 Q142.524 845.12 146.413 840.259 Q150.302 835.375 156.853 835.375 Q158.612 835.375 160.394 835.722 Q162.2 836.069 164.144 836.764 Z\" fill=\"#000000\" fill-rule=\"evenodd\" fill-opacity=\"1\" /><path clip-path=\"url(#clip980)\" d=\"M174.491 836 L192.848 836 L192.848 839.935 L178.774 839.935 L178.774 848.407 Q179.792 848.06 180.811 847.898 Q181.829 847.713 182.848 847.713 Q188.635 847.713 192.014 850.884 Q195.394 854.055 195.394 859.472 Q195.394 865.051 191.922 868.153 Q188.45 871.231 182.13 871.231 Q179.954 871.231 177.686 870.861 Q175.44 870.49 173.033 869.75 L173.033 865.051 Q175.116 866.185 177.339 866.74 Q179.561 867.296 182.038 867.296 Q186.042 867.296 188.38 865.19 Q190.718 863.083 190.718 859.472 Q190.718 855.861 188.38 853.754 Q186.042 851.648 182.038 851.648 Q180.163 851.648 178.288 852.065 Q176.436 852.481 174.491 853.361 L174.491 836 Z\" fill=\"#000000\" fill-rule=\"evenodd\" fill-opacity=\"1\" /><path clip-path=\"url(#clip980)\" d=\"M214.607 839.079 Q210.996 839.079 209.167 842.643 Q207.362 846.185 207.362 853.315 Q207.362 860.421 209.167 863.986 Q210.996 867.528 214.607 867.528 Q218.241 867.528 220.047 863.986 Q221.875 860.421 221.875 853.315 Q221.875 846.185 220.047 842.643 Q218.241 839.079 214.607 839.079 M214.607 835.375 Q220.417 835.375 223.473 839.981 Q226.551 844.565 226.551 853.315 Q226.551 862.041 223.473 866.648 Q220.417 871.231 214.607 871.231 Q208.797 871.231 205.718 866.648 Q202.662 862.041 202.662 853.315 Q202.662 844.565 205.718 839.981 Q208.797 835.375 214.607 835.375 Z\" fill=\"#000000\" fill-rule=\"evenodd\" fill-opacity=\"1\" /><path clip-path=\"url(#clip980)\" d=\"M244.769 839.079 Q241.158 839.079 239.329 842.643 Q237.523 846.185 237.523 853.315 Q237.523 860.421 239.329 863.986 Q241.158 867.528 244.769 867.528 Q248.403 867.528 250.209 863.986 Q252.037 860.421 252.037 853.315 Q252.037 846.185 250.209 842.643 Q248.403 839.079 244.769 839.079 M244.769 835.375 Q250.579 835.375 253.634 839.981 Q256.713 844.565 256.713 853.315 Q256.713 862.041 253.634 866.648 Q250.579 871.231 244.769 871.231 Q238.959 871.231 235.88 866.648 Q232.824 862.041 232.824 853.315 Q232.824 844.565 235.88 839.981 Q238.959 835.375 244.769 835.375 Z\" fill=\"#000000\" fill-rule=\"evenodd\" fill-opacity=\"1\" /><path clip-path=\"url(#clip980)\" d=\"M114.931 608.211 L122.57 608.211 L122.57 581.846 L114.26 583.513 L114.26 579.253 L122.524 577.587 L127.2 577.587 L127.2 608.211 L134.839 608.211 L134.839 612.147 L114.931 612.147 L114.931 608.211 Z\" fill=\"#000000\" fill-rule=\"evenodd\" fill-opacity=\"1\" /><path clip-path=\"url(#clip980)\" d=\"M143.103 577.587 L165.325 577.587 L165.325 579.577 L152.778 612.147 L147.894 612.147 L159.7 581.522 L143.103 581.522 L143.103 577.587 Z\" fill=\"#000000\" fill-rule=\"evenodd\" fill-opacity=\"1\" /><path clip-path=\"url(#clip980)\" d=\"M184.445 580.665 Q180.834 580.665 179.005 584.23 Q177.2 587.772 177.2 594.901 Q177.2 602.008 179.005 605.573 Q180.834 609.114 184.445 609.114 Q188.079 609.114 189.885 605.573 Q191.713 602.008 191.713 594.901 Q191.713 587.772 189.885 584.23 Q188.079 580.665 184.445 580.665 M184.445 576.962 Q190.255 576.962 193.311 581.568 Q196.389 586.151 196.389 594.901 Q196.389 603.628 193.311 608.235 Q190.255 612.818 184.445 612.818 Q178.635 612.818 175.556 608.235 Q172.501 603.628 172.501 594.901 Q172.501 586.151 175.556 581.568 Q178.635 576.962 184.445 576.962 Z\" fill=\"#000000\" fill-rule=\"evenodd\" fill-opacity=\"1\" /><path clip-path=\"url(#clip980)\" d=\"M214.607 580.665 Q210.996 580.665 209.167 584.23 Q207.362 587.772 207.362 594.901 Q207.362 602.008 209.167 605.573 Q210.996 609.114 214.607 609.114 Q218.241 609.114 220.047 605.573 Q221.875 602.008 221.875 594.901 Q221.875 587.772 220.047 584.23 Q218.241 580.665 214.607 580.665 M214.607 576.962 Q220.417 576.962 223.473 581.568 Q226.551 586.151 226.551 594.901 Q226.551 603.628 223.473 608.235 Q220.417 612.818 214.607 612.818 Q208.797 612.818 205.718 608.235 Q202.662 603.628 202.662 594.901 Q202.662 586.151 205.718 581.568 Q208.797 576.962 214.607 576.962 Z\" fill=\"#000000\" fill-rule=\"evenodd\" fill-opacity=\"1\" /><path clip-path=\"url(#clip980)\" d=\"M244.769 580.665 Q241.158 580.665 239.329 584.23 Q237.523 587.772 237.523 594.901 Q237.523 602.008 239.329 605.573 Q241.158 609.114 244.769 609.114 Q248.403 609.114 250.209 605.573 Q252.037 602.008 252.037 594.901 Q252.037 587.772 250.209 584.23 Q248.403 580.665 244.769 580.665 M244.769 576.962 Q250.579 576.962 253.634 581.568 Q256.713 586.151 256.713 594.901 Q256.713 603.628 253.634 608.235 Q250.579 612.818 244.769 612.818 Q238.959 612.818 235.88 608.235 Q232.824 603.628 232.824 594.901 Q232.824 586.151 235.88 581.568 Q238.959 576.962 244.769 576.962 Z\" fill=\"#000000\" fill-rule=\"evenodd\" fill-opacity=\"1\" /><path clip-path=\"url(#clip980)\" d=\"M114.931 349.798 L122.57 349.798 L122.57 323.433 L114.26 325.099 L114.26 320.84 L122.524 319.173 L127.2 319.173 L127.2 349.798 L134.839 349.798 L134.839 353.733 L114.931 353.733 L114.931 349.798 Z\" fill=\"#000000\" fill-rule=\"evenodd\" fill-opacity=\"1\" /><path clip-path=\"url(#clip980)\" d=\"M143.103 319.173 L165.325 319.173 L165.325 321.164 L152.778 353.733 L147.894 353.733 L159.7 323.109 L143.103 323.109 L143.103 319.173 Z\" fill=\"#000000\" fill-rule=\"evenodd\" fill-opacity=\"1\" /><path clip-path=\"url(#clip980)\" d=\"M174.491 319.173 L192.848 319.173 L192.848 323.109 L178.774 323.109 L178.774 331.581 Q179.792 331.233 180.811 331.071 Q181.829 330.886 182.848 330.886 Q188.635 330.886 192.014 334.058 Q195.394 337.229 195.394 342.645 Q195.394 348.224 191.922 351.326 Q188.45 354.405 182.13 354.405 Q179.954 354.405 177.686 354.034 Q175.44 353.664 173.033 352.923 L173.033 348.224 Q175.116 349.358 177.339 349.914 Q179.561 350.469 182.038 350.469 Q186.042 350.469 188.38 348.363 Q190.718 346.257 190.718 342.645 Q190.718 339.034 188.38 336.928 Q186.042 334.821 182.038 334.821 Q180.163 334.821 178.288 335.238 Q176.436 335.655 174.491 336.534 L174.491 319.173 Z\" fill=\"#000000\" fill-rule=\"evenodd\" fill-opacity=\"1\" /><path clip-path=\"url(#clip980)\" d=\"M214.607 322.252 Q210.996 322.252 209.167 325.817 Q207.362 329.358 207.362 336.488 Q207.362 343.595 209.167 347.159 Q210.996 350.701 214.607 350.701 Q218.241 350.701 220.047 347.159 Q221.875 343.595 221.875 336.488 Q221.875 329.358 220.047 325.817 Q218.241 322.252 214.607 322.252 M214.607 318.548 Q220.417 318.548 223.473 323.155 Q226.551 327.738 226.551 336.488 Q226.551 345.215 223.473 349.821 Q220.417 354.405 214.607 354.405 Q208.797 354.405 205.718 349.821 Q202.662 345.215 202.662 336.488 Q202.662 327.738 205.718 323.155 Q208.797 318.548 214.607 318.548 Z\" fill=\"#000000\" fill-rule=\"evenodd\" fill-opacity=\"1\" /><path clip-path=\"url(#clip980)\" d=\"M244.769 322.252 Q241.158 322.252 239.329 325.817 Q237.523 329.358 237.523 336.488 Q237.523 343.595 239.329 347.159 Q241.158 350.701 244.769 350.701 Q248.403 350.701 250.209 347.159 Q252.037 343.595 252.037 336.488 Q252.037 329.358 250.209 325.817 Q248.403 322.252 244.769 322.252 M244.769 318.548 Q250.579 318.548 253.634 323.155 Q256.713 327.738 256.713 336.488 Q256.713 345.215 253.634 349.821 Q250.579 354.405 244.769 354.405 Q238.959 354.405 235.88 349.821 Q232.824 345.215 232.824 336.488 Q232.824 327.738 235.88 323.155 Q238.959 318.548 244.769 318.548 Z\" fill=\"#000000\" fill-rule=\"evenodd\" fill-opacity=\"1\" /><path clip-path=\"url(#clip980)\" d=\"M57.2247 1212.18 L44.4614 1212.18 L44.4614 1222.68 L39.1779 1222.68 L39.1779 1205.81 L59.58 1205.81 Q62.2218 1209.54 63.5904 1214.02 Q64.9272 1218.51 64.9272 1223.6 Q64.9272 1234.74 58.4342 1241.05 Q51.9093 1247.32 40.2919 1247.32 Q28.6427 1247.32 22.1496 1241.05 Q15.6248 1234.74 15.6248 1223.6 Q15.6248 1218.96 16.7706 1214.79 Q17.9164 1210.59 20.1444 1207.05 L26.9876 1207.05 Q23.9639 1210.62 22.4361 1214.63 Q20.9083 1218.64 20.9083 1223.06 Q20.9083 1231.78 25.7781 1236.18 Q30.6479 1240.54 40.2919 1240.54 Q49.9041 1240.54 54.7739 1236.18 Q59.6436 1231.78 59.6436 1223.06 Q59.6436 1219.66 59.0707 1216.98 Q58.466 1214.31 57.2247 1212.18 Z\" fill=\"#000000\" fill-rule=\"evenodd\" fill-opacity=\"1\" /><path clip-path=\"url(#clip980)\" d=\"M21.7677 1187.64 L58.7206 1187.64 L58.7206 1179.87 Q58.7206 1170.04 54.2646 1165.49 Q49.8086 1160.9 40.1964 1160.9 Q30.6479 1160.9 26.2237 1165.49 Q21.7677 1170.04 21.7677 1179.87 L21.7677 1187.64 M16.4842 1194.07 L16.4842 1180.86 Q16.4842 1167.04 22.2451 1160.58 Q27.9743 1154.12 40.1964 1154.12 Q52.4822 1154.12 58.2432 1160.62 Q64.0042 1167.11 64.0042 1180.86 L64.0042 1194.07 L16.4842 1194.07 Z\" fill=\"#000000\" fill-rule=\"evenodd\" fill-opacity=\"1\" /><path clip-path=\"url(#clip980)\" d=\"M21.7677 1137.44 L39.6235 1137.44 L39.6235 1129.36 Q39.6235 1124.87 37.3 1122.42 Q34.9765 1119.97 30.6797 1119.97 Q26.4147 1119.97 24.0912 1122.42 Q21.7677 1124.87 21.7677 1129.36 L21.7677 1137.44 M16.4842 1143.87 L16.4842 1129.36 Q16.4842 1121.37 20.1126 1117.3 Q23.7092 1113.19 30.6797 1113.19 Q37.7138 1113.19 41.3104 1117.3 Q44.907 1121.37 44.907 1129.36 L44.907 1137.44 L64.0042 1137.44 L64.0042 1143.87 L16.4842 1143.87 Z\" fill=\"#000000\" fill-rule=\"evenodd\" fill-opacity=\"1\" /><path clip-path=\"url(#clip980)\" d=\"M58.657 1078.43 L77.5631 1078.43 L77.5631 1084.32 L28.3562 1084.32 L28.3562 1078.43 L33.7671 1078.43 Q30.5842 1076.59 29.0564 1073.79 Q27.4968 1070.95 27.4968 1067.04 Q27.4968 1060.55 32.6531 1056.5 Q37.8093 1052.43 46.212 1052.43 Q54.6147 1052.43 59.771 1056.5 Q64.9272 1060.55 64.9272 1067.04 Q64.9272 1070.95 63.3994 1073.79 Q61.8398 1076.59 58.657 1078.43 M46.212 1058.51 Q39.7508 1058.51 36.0905 1061.18 Q32.3984 1063.83 32.3984 1068.47 Q32.3984 1073.12 36.0905 1075.79 Q39.7508 1078.43 46.212 1078.43 Q52.6732 1078.43 56.3653 1075.79 Q60.0256 1073.12 60.0256 1068.47 Q60.0256 1063.83 56.3653 1061.18 Q52.6732 1058.51 46.212 1058.51 Z\" fill=\"#000000\" fill-rule=\"evenodd\" fill-opacity=\"1\" /><path clip-path=\"url(#clip980)\" d=\"M44.7161 1012.23 L47.5806 1012.23 L47.5806 1039.16 Q53.6281 1038.78 56.8109 1035.53 Q59.9619 1032.25 59.9619 1026.43 Q59.9619 1023.05 59.1344 1019.9 Q58.3069 1016.72 56.6518 1013.6 L62.1899 1013.6 Q63.5267 1016.75 64.227 1020.06 Q64.9272 1023.37 64.9272 1026.78 Q64.9272 1035.31 59.9619 1040.3 Q54.9967 1045.27 46.5303 1045.27 Q37.7774 1045.27 32.6531 1040.56 Q27.4968 1035.82 27.4968 1027.8 Q27.4968 1020.6 32.1438 1016.43 Q36.7589 1012.23 44.7161 1012.23 M42.9973 1018.09 Q38.1912 1018.15 35.3266 1020.79 Q32.4621 1023.4 32.4621 1027.73 Q32.4621 1032.63 35.2312 1035.59 Q38.0002 1038.52 43.0292 1038.97 L42.9973 1018.09 Z\" fill=\"#000000\" fill-rule=\"evenodd\" fill-opacity=\"1\" /><path clip-path=\"url(#clip980)\" d=\"M33.8307 981.962 Q33.2578 982.949 33.0032 984.126 Q32.7167 985.272 32.7167 986.673 Q32.7167 991.638 35.9632 994.311 Q39.1779 996.953 45.2253 996.953 L64.0042 996.953 L64.0042 1002.84 L28.3562 1002.84 L28.3562 996.953 L33.8944 996.953 Q30.6479 995.107 29.0883 992.147 Q27.4968 989.187 27.4968 984.954 Q27.4968 984.349 27.5923 983.617 Q27.656 982.885 27.8151 981.994 L33.8307 981.962 Z\" fill=\"#000000\" fill-rule=\"evenodd\" fill-opacity=\"1\" /><path clip-path=\"url(#clip980)\" d=\"M29.7248 929.445 L35.1993 929.445 Q33.8307 931.928 33.1623 934.442 Q32.4621 936.925 32.4621 939.471 Q32.4621 945.168 36.0905 948.319 Q39.6872 951.47 46.212 951.47 Q52.7369 951.47 56.3653 948.319 Q59.9619 945.168 59.9619 939.471 Q59.9619 936.925 59.2935 934.442 Q58.5933 931.928 57.2247 929.445 L62.6355 929.445 Q63.7814 931.896 64.3543 934.538 Q64.9272 937.147 64.9272 940.107 Q64.9272 948.16 59.8664 952.903 Q54.8057 957.645 46.212 957.645 Q37.491 957.645 32.4939 952.871 Q27.4968 948.065 27.4968 939.726 Q27.4968 937.02 28.0697 934.442 Q28.6108 931.864 29.7248 929.445 Z\" fill=\"#000000\" fill-rule=\"evenodd\" fill-opacity=\"1\" /><path clip-path=\"url(#clip980)\" d=\"M46.0847 903.059 Q46.0847 910.157 47.7079 912.894 Q49.3312 915.631 53.2461 915.631 Q56.3653 915.631 58.2114 913.594 Q60.0256 911.525 60.0256 907.993 Q60.0256 903.123 56.5881 900.195 Q53.1188 897.234 47.3897 897.234 L46.0847 897.234 L46.0847 903.059 M43.6657 891.378 L64.0042 891.378 L64.0042 897.234 L58.5933 897.234 Q61.8398 899.24 63.3994 902.232 Q64.9272 905.223 64.9272 909.552 Q64.9272 915.027 61.8716 918.273 Q58.7843 921.488 53.6281 921.488 Q47.6125 921.488 44.5569 917.477 Q41.5014 913.435 41.5014 905.446 L41.5014 897.234 L40.9285 897.234 Q36.8862 897.234 34.6901 899.908 Q32.4621 902.55 32.4621 907.356 Q32.4621 910.411 33.1941 913.308 Q33.9262 916.204 35.3903 918.878 L29.9795 918.878 Q28.7381 915.663 28.1334 912.639 Q27.4968 909.616 27.4968 906.751 Q27.4968 899.017 31.5072 895.197 Q35.5176 891.378 43.6657 891.378 Z\" fill=\"#000000\" fill-rule=\"evenodd\" fill-opacity=\"1\" /><path clip-path=\"url(#clip980)\" d=\"M58.657 873.65 L77.5631 873.65 L77.5631 879.538 L28.3562 879.538 L28.3562 873.65 L33.7671 873.65 Q30.5842 871.803 29.0564 869.003 Q27.4968 866.17 27.4968 862.255 Q27.4968 855.762 32.6531 851.72 Q37.8093 847.646 46.212 847.646 Q54.6147 847.646 59.771 851.72 Q64.9272 855.762 64.9272 862.255 Q64.9272 866.17 63.3994 869.003 Q61.8398 871.803 58.657 873.65 M46.212 853.725 Q39.7508 853.725 36.0905 856.398 Q32.3984 859.04 32.3984 863.687 Q32.3984 868.334 36.0905 871.008 Q39.7508 873.65 46.212 873.65 Q52.6732 873.65 56.3653 871.008 Q60.0256 868.334 60.0256 863.687 Q60.0256 859.04 56.3653 856.398 Q52.6732 853.725 46.212 853.725 Z\" fill=\"#000000\" fill-rule=\"evenodd\" fill-opacity=\"1\" /><path clip-path=\"url(#clip980)\" d=\"M28.3562 837.938 L28.3562 832.081 L64.0042 832.081 L64.0042 837.938 L28.3562 837.938 M14.479 837.938 L14.479 832.081 L21.895 832.081 L21.895 837.938 L14.479 837.938 Z\" fill=\"#000000\" fill-rule=\"evenodd\" fill-opacity=\"1\" /><path clip-path=\"url(#clip980)\" d=\"M18.2347 814.035 L28.3562 814.035 L28.3562 801.972 L32.9077 801.972 L32.9077 814.035 L52.2594 814.035 Q56.6199 814.035 57.8613 812.857 Q59.1026 811.648 59.1026 807.987 L59.1026 801.972 L64.0042 801.972 L64.0042 807.987 Q64.0042 814.767 61.4897 817.345 Q58.9434 819.923 52.2594 819.923 L32.9077 819.923 L32.9077 824.22 L28.3562 824.22 L28.3562 819.923 L18.2347 819.923 L18.2347 814.035 Z\" fill=\"#000000\" fill-rule=\"evenodd\" fill-opacity=\"1\" /><path clip-path=\"url(#clip980)\" d=\"M46.0847 778.068 Q46.0847 785.166 47.7079 787.903 Q49.3312 790.641 53.2461 790.641 Q56.3653 790.641 58.2114 788.604 Q60.0256 786.535 60.0256 783.002 Q60.0256 778.132 56.5881 775.204 Q53.1188 772.244 47.3897 772.244 L46.0847 772.244 L46.0847 778.068 M43.6657 766.387 L64.0042 766.387 L64.0042 772.244 L58.5933 772.244 Q61.8398 774.249 63.3994 777.241 Q64.9272 780.233 64.9272 784.561 Q64.9272 790.036 61.8716 793.282 Q58.7843 796.497 53.6281 796.497 Q47.6125 796.497 44.5569 792.487 Q41.5014 788.445 41.5014 780.456 L41.5014 772.244 L40.9285 772.244 Q36.8862 772.244 34.6901 774.917 Q32.4621 777.559 32.4621 782.365 Q32.4621 785.421 33.1941 788.317 Q33.9262 791.214 35.3903 793.887 L29.9795 793.887 Q28.7381 790.673 28.1334 787.649 Q27.4968 784.625 27.4968 781.761 Q27.4968 774.026 31.5072 770.207 Q35.5176 766.387 43.6657 766.387 Z\" fill=\"#000000\" fill-rule=\"evenodd\" fill-opacity=\"1\" /><path clip-path=\"url(#clip980)\" d=\"M14.5426 719.536 Q21.8632 723.801 29.0246 725.87 Q36.186 727.938 43.5384 727.938 Q50.8908 727.938 58.1159 725.87 Q65.3091 723.769 72.5979 719.536 L72.5979 724.628 Q65.1182 729.403 57.8931 731.79 Q50.668 734.145 43.5384 734.145 Q36.4406 734.145 29.2474 731.79 Q22.0542 729.434 14.5426 724.628 L14.5426 719.536 Z\" fill=\"#000000\" fill-rule=\"evenodd\" fill-opacity=\"1\" /><path clip-path=\"url(#clip980)\" d=\"M29.7248 682.519 L35.1993 682.519 Q33.8307 685.002 33.1623 687.516 Q32.4621 689.999 32.4621 692.545 Q32.4621 698.242 36.0905 701.393 Q39.6872 704.545 46.212 704.545 Q52.7369 704.545 56.3653 701.393 Q59.9619 698.242 59.9619 692.545 Q59.9619 689.999 59.2935 687.516 Q58.5933 685.002 57.2247 682.519 L62.6355 682.519 Q63.7814 684.97 64.3543 687.612 Q64.9272 690.222 64.9272 693.182 Q64.9272 701.234 59.8664 705.977 Q54.8057 710.719 46.212 710.719 Q37.491 710.719 32.4939 705.945 Q27.4968 701.139 27.4968 692.8 Q27.4968 690.094 28.0697 687.516 Q28.6108 684.938 29.7248 682.519 Z\" fill=\"#000000\" fill-rule=\"evenodd\" fill-opacity=\"1\" /><path clip-path=\"url(#clip980)\" d=\"M49.9359 672.939 L28.3562 672.939 L28.3562 667.082 L49.7131 667.082 Q54.7739 667.082 57.3202 665.109 Q59.8346 663.136 59.8346 659.189 Q59.8346 654.446 56.8109 651.709 Q53.7872 648.94 48.5673 648.94 L28.3562 648.94 L28.3562 643.084 L64.0042 643.084 L64.0042 648.94 L58.5296 648.94 Q61.7762 651.073 63.3676 653.905 Q64.9272 656.706 64.9272 660.43 Q64.9272 666.573 61.1078 669.756 Q57.2883 672.939 49.9359 672.939 M27.4968 658.202 L27.4968 658.202 Z\" fill=\"#000000\" fill-rule=\"evenodd\" fill-opacity=\"1\" /><path clip-path=\"url(#clip980)\" d=\"M33.8307 610.364 Q33.2578 611.351 33.0032 612.528 Q32.7167 613.674 32.7167 615.075 Q32.7167 620.04 35.9632 622.713 Q39.1779 625.355 45.2253 625.355 L64.0042 625.355 L64.0042 631.243 L28.3562 631.243 L28.3562 625.355 L33.8944 625.355 Q30.6479 623.509 29.0883 620.549 Q27.4968 617.589 27.4968 613.356 Q27.4968 612.751 27.5923 612.019 Q27.656 611.287 27.8151 610.396 L33.8307 610.364 Z\" fill=\"#000000\" fill-rule=\"evenodd\" fill-opacity=\"1\" /><path clip-path=\"url(#clip980)\" d=\"M33.8307 584.71 Q33.2578 585.697 33.0032 586.874 Q32.7167 588.02 32.7167 589.421 Q32.7167 594.386 35.9632 597.06 Q39.1779 599.701 45.2253 599.701 L64.0042 599.701 L64.0042 605.59 L28.3562 605.59 L28.3562 599.701 L33.8944 599.701 Q30.6479 597.855 29.0883 594.895 Q27.4968 591.935 27.4968 587.702 Q27.4968 587.097 27.5923 586.365 Q27.656 585.633 27.8151 584.742 L33.8307 584.71 Z\" fill=\"#000000\" fill-rule=\"evenodd\" fill-opacity=\"1\" /><path clip-path=\"url(#clip980)\" d=\"M44.7161 549.508 L47.5806 549.508 L47.5806 576.435 Q53.6281 576.053 56.8109 572.806 Q59.9619 569.528 59.9619 563.703 Q59.9619 560.329 59.1344 557.178 Q58.3069 553.996 56.6518 550.876 L62.1899 550.876 Q63.5267 554.027 64.227 557.338 Q64.9272 560.648 64.9272 564.053 Q64.9272 572.583 59.9619 577.581 Q54.9967 582.546 46.5303 582.546 Q37.7774 582.546 32.6531 577.835 Q27.4968 573.093 27.4968 565.072 Q27.4968 557.879 32.1438 553.709 Q36.7589 549.508 44.7161 549.508 M42.9973 555.364 Q38.1912 555.428 35.3266 558.07 Q32.4621 560.68 32.4621 565.008 Q32.4621 569.91 35.2312 572.87 Q38.0002 575.798 43.0292 576.244 L42.9973 555.364 Z\" fill=\"#000000\" fill-rule=\"evenodd\" fill-opacity=\"1\" /><path clip-path=\"url(#clip980)\" d=\"M42.4881 510.263 L64.0042 510.263 L64.0042 516.12 L42.679 516.12 Q37.6183 516.12 35.1038 518.093 Q32.5894 520.066 32.5894 524.013 Q32.5894 528.756 35.6131 531.493 Q38.6368 534.23 43.8567 534.23 L64.0042 534.23 L64.0042 540.118 L28.3562 540.118 L28.3562 534.23 L33.8944 534.23 Q30.6797 532.129 29.0883 529.297 Q27.4968 526.432 27.4968 522.708 Q27.4968 516.565 31.3163 513.414 Q35.1038 510.263 42.4881 510.263 Z\" fill=\"#000000\" fill-rule=\"evenodd\" fill-opacity=\"1\" /><path clip-path=\"url(#clip980)\" d=\"M18.2347 492.789 L28.3562 492.789 L28.3562 480.726 L32.9077 480.726 L32.9077 492.789 L52.2594 492.789 Q56.6199 492.789 57.8613 491.612 Q59.1026 490.402 59.1026 486.742 L59.1026 480.726 L64.0042 480.726 L64.0042 486.742 Q64.0042 493.521 61.4897 496.099 Q58.9434 498.678 52.2594 498.678 L32.9077 498.678 L32.9077 502.974 L28.3562 502.974 L28.3562 498.678 L18.2347 498.678 L18.2347 492.789 Z\" fill=\"#000000\" fill-rule=\"evenodd\" fill-opacity=\"1\" /><path clip-path=\"url(#clip980)\" d=\"M16.4842 452.781 L16.4842 446.32 L45.3526 446.32 Q52.9915 446.32 56.3653 443.551 Q59.7073 440.781 59.7073 434.575 Q59.7073 428.4 56.3653 425.631 Q52.9915 422.862 45.3526 422.862 L16.4842 422.862 L16.4842 416.401 L46.1484 416.401 Q55.4423 416.401 60.1847 421.016 Q64.9272 425.599 64.9272 434.575 Q64.9272 443.582 60.1847 448.198 Q55.4423 452.781 46.1484 452.781 L16.4842 452.781 Z\" fill=\"#000000\" fill-rule=\"evenodd\" fill-opacity=\"1\" /><path clip-path=\"url(#clip980)\" d=\"M18.0438 375.851 L24.314 375.851 Q22.5634 379.512 21.704 382.758 Q20.8447 386.005 20.8447 389.028 Q20.8447 394.28 22.8817 397.145 Q24.9187 399.977 28.6745 399.977 Q31.8255 399.977 33.4488 398.099 Q35.0402 396.19 36.0269 390.906 L36.8226 387.023 Q38.1912 379.83 41.6605 376.424 Q45.098 372.987 50.8908 372.987 Q57.7976 372.987 61.3624 377.634 Q64.9272 382.249 64.9272 391.193 Q64.9272 394.566 64.1633 398.386 Q63.3994 402.173 61.9035 406.248 L55.2831 406.248 Q57.4793 402.333 58.5933 398.577 Q59.7073 394.821 59.7073 391.193 Q59.7073 385.686 57.543 382.694 Q55.3786 379.703 51.3682 379.703 Q47.8671 379.703 45.8937 381.867 Q43.9204 383.999 42.9337 388.901 L42.1698 392.816 Q40.7375 400.009 37.682 403.224 Q34.6264 406.438 29.1837 406.438 Q22.8817 406.438 19.2532 402.014 Q15.6248 397.558 15.6248 389.76 Q15.6248 386.418 16.2295 382.949 Q16.8343 379.48 18.0438 375.851 Z\" fill=\"#000000\" fill-rule=\"evenodd\" fill-opacity=\"1\" /><path clip-path=\"url(#clip980)\" d=\"M21.7677 356.531 L58.7206 356.531 L58.7206 348.765 Q58.7206 338.93 54.2646 334.379 Q49.8086 329.795 40.1964 329.795 Q30.6479 329.795 26.2237 334.379 Q21.7677 338.93 21.7677 348.765 L21.7677 356.531 M16.4842 362.961 L16.4842 349.752 Q16.4842 335.938 22.2451 329.477 Q27.9743 323.016 40.1964 323.016 Q52.4822 323.016 58.2432 329.509 Q64.0042 336.002 64.0042 349.752 L64.0042 362.961 L16.4842 362.961 Z\" fill=\"#000000\" fill-rule=\"evenodd\" fill-opacity=\"1\" /><path clip-path=\"url(#clip980)\" d=\"M14.5426 313.945 L14.5426 308.852 Q22.0542 304.078 29.2474 301.723 Q36.4406 299.335 43.5384 299.335 Q50.668 299.335 57.8931 301.723 Q65.1182 304.078 72.5979 308.852 L72.5979 313.945 Q65.3091 309.712 58.1159 307.643 Q50.8908 305.542 43.5384 305.542 Q36.186 305.542 29.0246 307.643 Q21.8632 309.712 14.5426 313.945 Z\" fill=\"#000000\" fill-rule=\"evenodd\" fill-opacity=\"1\" /><path clip-path=\"url(#clip980)\" d=\"M856.577 63.9476 L856.577 47.7034 L843.209 47.7034 L843.209 40.9789 L864.679 40.9789 L864.679 66.9452 Q859.939 70.3075 854.227 72.0494 Q848.515 73.7508 842.034 73.7508 Q827.856 73.7508 819.835 65.4869 Q811.855 57.1826 811.855 42.3968 Q811.855 27.5705 819.835 19.3066 Q827.856 11.0023 842.034 11.0023 Q847.948 11.0023 853.255 12.4606 Q858.602 13.9189 863.099 16.7545 L863.099 25.464 Q858.562 21.6156 853.458 19.6712 Q848.353 17.7268 842.723 17.7268 Q831.623 17.7268 826.033 23.9246 Q820.483 30.1225 820.483 42.3968 Q820.483 54.6305 826.033 60.8284 Q831.623 67.0263 842.723 67.0263 Q847.057 67.0263 850.46 66.2971 Q853.863 65.5274 856.577 63.9476 Z\" fill=\"#000000\" fill-rule=\"evenodd\" fill-opacity=\"1\" /><path clip-path=\"url(#clip980)\" d=\"M887.809 18.8205 L887.809 65.8515 L897.693 65.8515 Q910.211 65.8515 916.003 60.1802 Q921.837 54.509 921.837 42.2752 Q921.837 30.1225 916.003 24.4918 Q910.211 18.8205 897.693 18.8205 L887.809 18.8205 M879.626 12.096 L896.438 12.096 Q914.019 12.096 922.242 19.4281 Q930.465 26.7198 930.465 42.2752 Q930.465 57.9117 922.201 65.2439 Q913.938 72.576 896.438 72.576 L879.626 72.576 L879.626 12.096 Z\" fill=\"#000000\" fill-rule=\"evenodd\" fill-opacity=\"1\" /><path clip-path=\"url(#clip980)\" d=\"M951.692 18.8205 L951.692 41.5461 L961.981 41.5461 Q967.693 41.5461 970.812 38.5889 Q973.931 35.6318 973.931 30.163 Q973.931 24.7348 970.812 21.7777 Q967.693 18.8205 961.981 18.8205 L951.692 18.8205 M943.509 12.096 L961.981 12.096 Q972.149 12.096 977.334 16.714 Q982.56 21.2916 982.56 30.163 Q982.56 39.1155 977.334 43.6931 Q972.149 48.2706 961.981 48.2706 L951.692 48.2706 L951.692 72.576 L943.509 72.576 L943.509 12.096 Z\" fill=\"#000000\" fill-rule=\"evenodd\" fill-opacity=\"1\" /><path clip-path=\"url(#clip980)\" d=\"M1026.8 65.7705 L1026.8 89.8329 L1019.3 89.8329 L1019.3 27.2059 L1026.8 27.2059 L1026.8 34.0924 Q1029.15 30.0415 1032.71 28.0971 Q1036.32 26.1121 1041.3 26.1121 Q1049.56 26.1121 1054.71 32.6746 Q1059.89 39.2371 1059.89 49.9314 Q1059.89 60.6258 1054.71 67.1883 Q1049.56 73.7508 1041.3 73.7508 Q1036.32 73.7508 1032.71 71.8063 Q1029.15 69.8214 1026.8 65.7705 M1052.15 49.9314 Q1052.15 41.7081 1048.75 37.0496 Q1045.39 32.3505 1039.48 32.3505 Q1033.56 32.3505 1030.16 37.0496 Q1026.8 41.7081 1026.8 49.9314 Q1026.8 58.1548 1030.16 62.8538 Q1033.56 67.5124 1039.48 67.5124 Q1045.39 67.5124 1048.75 62.8538 Q1052.15 58.1548 1052.15 49.9314 Z\" fill=\"#000000\" fill-rule=\"evenodd\" fill-opacity=\"1\" /><path clip-path=\"url(#clip980)\" d=\"M1111.05 48.0275 L1111.05 51.6733 L1076.78 51.6733 Q1077.27 59.3701 1081.4 63.421 Q1085.57 67.4314 1092.99 67.4314 Q1097.28 67.4314 1101.29 66.3781 Q1105.34 65.3249 1109.31 63.2184 L1109.31 70.267 Q1105.3 71.9684 1101.09 72.8596 Q1096.88 73.7508 1092.54 73.7508 Q1081.69 73.7508 1075.33 67.4314 Q1069.01 61.1119 1069.01 50.3365 Q1069.01 39.1965 1075 32.6746 Q1081.04 26.1121 1091.25 26.1121 Q1100.4 26.1121 1105.71 32.0264 Q1111.05 37.9003 1111.05 48.0275 M1103.6 45.84 Q1103.52 39.7232 1100.16 36.0774 Q1096.84 32.4315 1091.33 32.4315 Q1085.09 32.4315 1081.32 35.9558 Q1077.59 39.4801 1077.03 45.8805 L1103.6 45.84 Z\" fill=\"#000000\" fill-rule=\"evenodd\" fill-opacity=\"1\" /><path clip-path=\"url(#clip980)\" d=\"M1149.58 34.1734 Q1148.32 33.4443 1146.82 33.1202 Q1145.37 32.7556 1143.58 32.7556 Q1137.26 32.7556 1133.86 36.8875 Q1130.5 40.9789 1130.5 48.6757 L1130.5 72.576 L1123 72.576 L1123 27.2059 L1130.5 27.2059 L1130.5 34.2544 Q1132.85 30.1225 1136.62 28.1376 Q1140.38 26.1121 1145.77 26.1121 Q1146.54 26.1121 1147.47 26.2337 Q1148.4 26.3147 1149.54 26.5172 L1149.58 34.1734 Z\" fill=\"#000000\" fill-rule=\"evenodd\" fill-opacity=\"1\" /><path clip-path=\"url(#clip980)\" d=\"M1216.42 28.9478 L1216.42 35.9153 Q1213.26 34.1734 1210.06 33.3227 Q1206.9 32.4315 1203.66 32.4315 Q1196.41 32.4315 1192.4 37.0496 Q1188.39 41.6271 1188.39 49.9314 Q1188.39 58.2358 1192.4 62.8538 Q1196.41 67.4314 1203.66 67.4314 Q1206.9 67.4314 1210.06 66.5807 Q1213.26 65.6895 1216.42 63.9476 L1216.42 70.8341 Q1213.3 72.2924 1209.94 73.0216 Q1206.62 73.7508 1202.85 73.7508 Q1192.6 73.7508 1186.56 67.3098 Q1180.53 60.8689 1180.53 49.9314 Q1180.53 38.832 1186.6 32.472 Q1192.72 26.1121 1203.33 26.1121 Q1206.78 26.1121 1210.06 26.8413 Q1213.34 27.5299 1216.42 28.9478 Z\" fill=\"#000000\" fill-rule=\"evenodd\" fill-opacity=\"1\" /><path clip-path=\"url(#clip980)\" d=\"M1250 49.7694 Q1240.97 49.7694 1237.48 51.8354 Q1234 53.9013 1234 58.8839 Q1234 62.8538 1236.59 65.2034 Q1239.23 67.5124 1243.72 67.5124 Q1249.92 67.5124 1253.65 63.1374 Q1257.41 58.7219 1257.41 51.4303 L1257.41 49.7694 L1250 49.7694 M1264.87 46.6907 L1264.87 72.576 L1257.41 72.576 L1257.41 65.6895 Q1254.86 69.8214 1251.05 71.8063 Q1247.25 73.7508 1241.74 73.7508 Q1234.77 73.7508 1230.64 69.8619 Q1226.55 65.9325 1226.55 59.3701 Q1226.55 51.7138 1231.65 47.825 Q1236.79 43.9361 1246.96 43.9361 L1257.41 43.9361 L1257.41 43.2069 Q1257.41 38.0623 1254.01 35.2672 Q1250.65 32.4315 1244.53 32.4315 Q1240.64 32.4315 1236.96 33.3632 Q1233.27 34.295 1229.87 36.1584 L1229.87 29.2718 Q1233.96 27.692 1237.81 26.9223 Q1241.66 26.1121 1245.3 26.1121 Q1255.15 26.1121 1260.01 31.2163 Q1264.87 36.3204 1264.87 46.6907 Z\" fill=\"#000000\" fill-rule=\"evenodd\" fill-opacity=\"1\" /><path clip-path=\"url(#clip980)\" d=\"M1287.43 65.7705 L1287.43 89.8329 L1279.94 89.8329 L1279.94 27.2059 L1287.43 27.2059 L1287.43 34.0924 Q1289.78 30.0415 1293.35 28.0971 Q1296.95 26.1121 1301.93 26.1121 Q1310.2 26.1121 1315.34 32.6746 Q1320.53 39.2371 1320.53 49.9314 Q1320.53 60.6258 1315.34 67.1883 Q1310.2 73.7508 1301.93 73.7508 Q1296.95 73.7508 1293.35 71.8063 Q1289.78 69.8214 1287.43 65.7705 M1312.79 49.9314 Q1312.79 41.7081 1309.39 37.0496 Q1306.02 32.3505 1300.11 32.3505 Q1294.2 32.3505 1290.79 37.0496 Q1287.43 41.7081 1287.43 49.9314 Q1287.43 58.1548 1290.79 62.8538 Q1294.2 67.5124 1300.11 67.5124 Q1306.02 67.5124 1309.39 62.8538 Q1312.79 58.1548 1312.79 49.9314 Z\" fill=\"#000000\" fill-rule=\"evenodd\" fill-opacity=\"1\" /><path clip-path=\"url(#clip980)\" d=\"M1332.88 27.2059 L1340.34 27.2059 L1340.34 72.576 L1332.88 72.576 L1332.88 27.2059 M1332.88 9.54393 L1340.34 9.54393 L1340.34 18.9825 L1332.88 18.9825 L1332.88 9.54393 Z\" fill=\"#000000\" fill-rule=\"evenodd\" fill-opacity=\"1\" /><path clip-path=\"url(#clip980)\" d=\"M1363.3 14.324 L1363.3 27.2059 L1378.66 27.2059 L1378.66 32.9987 L1363.3 32.9987 L1363.3 57.6282 Q1363.3 63.1779 1364.8 64.7578 Q1366.34 66.3376 1371 66.3376 L1378.66 66.3376 L1378.66 72.576 L1371 72.576 Q1362.37 72.576 1359.09 69.3758 Q1355.81 66.1351 1355.81 57.6282 L1355.81 32.9987 L1350.34 32.9987 L1350.34 27.2059 L1355.81 27.2059 L1355.81 14.324 L1363.3 14.324 Z\" fill=\"#000000\" fill-rule=\"evenodd\" fill-opacity=\"1\" /><path clip-path=\"url(#clip980)\" d=\"M1409.08 49.7694 Q1400.05 49.7694 1396.56 51.8354 Q1393.08 53.9013 1393.08 58.8839 Q1393.08 62.8538 1395.67 65.2034 Q1398.3 67.5124 1402.8 67.5124 Q1409 67.5124 1412.73 63.1374 Q1416.49 58.7219 1416.49 51.4303 L1416.49 49.7694 L1409.08 49.7694 M1423.95 46.6907 L1423.95 72.576 L1416.49 72.576 L1416.49 65.6895 Q1413.94 69.8214 1410.13 71.8063 Q1406.32 73.7508 1400.82 73.7508 Q1393.85 73.7508 1389.72 69.8619 Q1385.62 65.9325 1385.62 59.3701 Q1385.62 51.7138 1390.73 47.825 Q1395.87 43.9361 1406.04 43.9361 L1416.49 43.9361 L1416.49 43.2069 Q1416.49 38.0623 1413.09 35.2672 Q1409.73 32.4315 1403.61 32.4315 Q1399.72 32.4315 1396.04 33.3632 Q1392.35 34.295 1388.95 36.1584 L1388.95 29.2718 Q1393.04 27.692 1396.89 26.9223 Q1400.73 26.1121 1404.38 26.1121 Q1414.22 26.1121 1419.09 31.2163 Q1423.95 36.3204 1423.95 46.6907 Z\" fill=\"#000000\" fill-rule=\"evenodd\" fill-opacity=\"1\" /><path clip-path=\"url(#clip980)\" d=\"M1483.25 32.4315 Q1477.26 32.4315 1473.77 37.1306 Q1470.29 41.7891 1470.29 49.9314 Q1470.29 58.0738 1473.73 62.7728 Q1477.22 67.4314 1483.25 67.4314 Q1489.21 67.4314 1492.69 62.7323 Q1496.17 58.0333 1496.17 49.9314 Q1496.17 41.8701 1492.69 37.1711 Q1489.21 32.4315 1483.25 32.4315 M1483.25 26.1121 Q1492.97 26.1121 1498.52 32.4315 Q1504.07 38.7509 1504.07 49.9314 Q1504.07 61.0714 1498.52 67.4314 Q1492.97 73.7508 1483.25 73.7508 Q1473.49 73.7508 1467.94 67.4314 Q1462.43 61.0714 1462.43 49.9314 Q1462.43 38.7509 1467.94 32.4315 Q1473.49 26.1121 1483.25 26.1121 Z\" fill=\"#000000\" fill-rule=\"evenodd\" fill-opacity=\"1\" /><path clip-path=\"url(#clip980)\" d=\"M1539.4 9.54393 L1539.4 15.7418 L1532.27 15.7418 Q1528.26 15.7418 1526.68 17.3622 Q1525.14 18.9825 1525.14 23.1955 L1525.14 27.2059 L1537.41 27.2059 L1537.41 32.9987 L1525.14 32.9987 L1525.14 72.576 L1517.64 72.576 L1517.64 32.9987 L1510.51 32.9987 L1510.51 27.2059 L1517.64 27.2059 L1517.64 24.0462 Q1517.64 16.471 1521.17 13.0277 Q1524.69 9.54393 1532.35 9.54393 L1539.4 9.54393 Z\" fill=\"#000000\" fill-rule=\"evenodd\" fill-opacity=\"1\" /><path clip-path=\"url(#clip980)\" d=\"M1580.51 18.8205 L1580.51 41.5461 L1590.8 41.5461 Q1596.51 41.5461 1599.63 38.5889 Q1602.75 35.6318 1602.75 30.163 Q1602.75 24.7348 1599.63 21.7777 Q1596.51 18.8205 1590.8 18.8205 L1580.51 18.8205 M1572.33 12.096 L1590.8 12.096 Q1600.97 12.096 1606.16 16.714 Q1611.38 21.2916 1611.38 30.163 Q1611.38 39.1155 1606.16 43.6931 Q1600.97 48.2706 1590.8 48.2706 L1580.51 48.2706 L1580.51 72.576 L1572.33 72.576 L1572.33 12.096 Z\" fill=\"#000000\" fill-rule=\"evenodd\" fill-opacity=\"1\" /><path clip-path=\"url(#clip980)\" d=\"M1636.66 32.4315 Q1630.66 32.4315 1627.18 37.1306 Q1623.7 41.7891 1623.7 49.9314 Q1623.7 58.0738 1627.14 62.7728 Q1630.62 67.4314 1636.66 67.4314 Q1642.61 67.4314 1646.1 62.7323 Q1649.58 58.0333 1649.58 49.9314 Q1649.58 41.8701 1646.1 37.1711 Q1642.61 32.4315 1636.66 32.4315 M1636.66 26.1121 Q1646.38 26.1121 1651.93 32.4315 Q1657.48 38.7509 1657.48 49.9314 Q1657.48 61.0714 1651.93 67.4314 Q1646.38 73.7508 1636.66 73.7508 Q1626.9 73.7508 1621.35 67.4314 Q1615.84 61.0714 1615.84 49.9314 Q1615.84 38.7509 1621.35 32.4315 Q1626.9 26.1121 1636.66 26.1121 Z\" fill=\"#000000\" fill-rule=\"evenodd\" fill-opacity=\"1\" /><path clip-path=\"url(#clip980)\" d=\"M1669.84 9.54393 L1677.29 9.54393 L1677.29 72.576 L1669.84 72.576 L1669.84 9.54393 Z\" fill=\"#000000\" fill-rule=\"evenodd\" fill-opacity=\"1\" /><path clip-path=\"url(#clip980)\" d=\"M1713.5 49.7694 Q1704.47 49.7694 1700.99 51.8354 Q1697.5 53.9013 1697.5 58.8839 Q1697.5 62.8538 1700.1 65.2034 Q1702.73 67.5124 1707.23 67.5124 Q1713.42 67.5124 1717.15 63.1374 Q1720.92 58.7219 1720.92 51.4303 L1720.92 49.7694 L1713.5 49.7694 M1728.37 46.6907 L1728.37 72.576 L1720.92 72.576 L1720.92 65.6895 Q1718.37 69.8214 1714.56 71.8063 Q1710.75 73.7508 1705.24 73.7508 Q1698.27 73.7508 1694.14 69.8619 Q1690.05 65.9325 1690.05 59.3701 Q1690.05 51.7138 1695.15 47.825 Q1700.3 43.9361 1710.47 43.9361 L1720.92 43.9361 L1720.92 43.2069 Q1720.92 38.0623 1717.52 35.2672 Q1714.15 32.4315 1708.04 32.4315 Q1704.15 32.4315 1700.46 33.3632 Q1696.77 34.295 1693.37 36.1584 L1693.37 29.2718 Q1697.46 27.692 1701.31 26.9223 Q1705.16 26.1121 1708.81 26.1121 Q1718.65 26.1121 1723.51 31.2163 Q1728.37 36.3204 1728.37 46.6907 Z\" fill=\"#000000\" fill-rule=\"evenodd\" fill-opacity=\"1\" /><path clip-path=\"url(#clip980)\" d=\"M1781.44 45.1919 L1781.44 72.576 L1773.98 72.576 L1773.98 45.4349 Q1773.98 38.994 1771.47 35.7938 Q1768.96 32.5936 1763.94 32.5936 Q1757.9 32.5936 1754.42 36.4419 Q1750.94 40.2903 1750.94 46.9338 L1750.94 72.576 L1743.44 72.576 L1743.44 27.2059 L1750.94 27.2059 L1750.94 34.2544 Q1753.61 30.163 1757.21 28.1376 Q1760.86 26.1121 1765.6 26.1121 Q1773.42 26.1121 1777.43 30.9732 Q1781.44 35.7938 1781.44 45.1919 Z\" fill=\"#000000\" fill-rule=\"evenodd\" fill-opacity=\"1\" /><path clip-path=\"url(#clip980)\" d=\"M1826.16 34.0924 L1826.16 9.54393 L1833.61 9.54393 L1833.61 72.576 L1826.16 72.576 L1826.16 65.7705 Q1823.81 69.8214 1820.21 71.8063 Q1816.64 73.7508 1811.62 73.7508 Q1803.39 73.7508 1798.21 67.1883 Q1793.06 60.6258 1793.06 49.9314 Q1793.06 39.2371 1798.21 32.6746 Q1803.39 26.1121 1811.62 26.1121 Q1816.64 26.1121 1820.21 28.0971 Q1823.81 30.0415 1826.16 34.0924 M1800.76 49.9314 Q1800.76 58.1548 1804.12 62.8538 Q1807.53 67.5124 1813.44 67.5124 Q1819.36 67.5124 1822.76 62.8538 Q1826.16 58.1548 1826.16 49.9314 Q1826.16 41.7081 1822.76 37.0496 Q1819.36 32.3505 1813.44 32.3505 Q1807.53 32.3505 1804.12 37.0496 Q1800.76 41.7081 1800.76 49.9314 Z\" fill=\"#000000\" fill-rule=\"evenodd\" fill-opacity=\"1\" /><polyline clip-path=\"url(#clip982)\" style=\"stroke:#009af9; stroke-linecap:round; stroke-linejoin:round; stroke-width:4; stroke-opacity:1; fill:none\" points=\"\n",
       "  351.016,1386.4 998.828,1250.1 1646.64,1244.8 2294.45,160.256 \n",
       "  \"/>\n",
       "</svg>\n"
      ]
     },
     "execution_count": 37,
     "metadata": {},
     "output_type": "execute_result"
    }
   ],
   "source": [
    "plot(df.year, df.gdppc, xlabel=label(df, :year), ylabel=label(df, :gdppc), title=caption(df), legend=false)"
   ]
  }
 ],
 "metadata": {
  "kernelspec": {
   "display_name": "Julia 1.8.2",
   "language": "julia",
   "name": "julia-1.8"
  },
  "language_info": {
   "file_extension": ".jl",
   "mimetype": "application/julia",
   "name": "julia",
   "version": "1.8.2"
  }
 },
 "nbformat": 4,
 "nbformat_minor": 5
}
